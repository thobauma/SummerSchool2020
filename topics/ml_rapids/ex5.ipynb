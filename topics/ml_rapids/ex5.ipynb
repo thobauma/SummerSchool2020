{
 "cells": [
  {
   "cell_type": "markdown",
   "metadata": {},
   "source": [
    "## Exercise 5\n",
    "\n",
    "Given a set of training points $x_0 = -1, x_1=-0.5, x_2=0, x_3=0.5, x_4=1$. For the trees from Exercise 4, \n",
    "- determine the vector $w$\n",
    "- evaluate the function $q$\n",
    "- find the set $\\mathcal{L}_n$ for all leaves $n$"
   ]
  }
 ],
 "metadata": {
  "kernelspec": {
   "display_name": "Python 3",
   "language": "python",
   "name": "python3"
  },
  "language_info": {
   "codemirror_mode": {
    "name": "ipython",
    "version": 3
   },
   "file_extension": ".py",
   "mimetype": "text/x-python",
   "name": "python",
   "nbconvert_exporter": "python",
   "pygments_lexer": "ipython3",
   "version": "3.6.10"
  }
 },
 "nbformat": 4,
 "nbformat_minor": 4
}
