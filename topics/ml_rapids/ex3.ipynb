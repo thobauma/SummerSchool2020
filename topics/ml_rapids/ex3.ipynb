{
 "cells": [
  {
   "cell_type": "markdown",
   "metadata": {},
   "source": [
    "## Exercise 3. GLMs, Logistic Regression\n",
    "\n",
    "1. Convince yourself, that, if we encode the binary outcome as $Y \\in {\\pm 1}$, the (conditional) log-likelihood under the logistic regression model simplifies to:\n",
    "\n",
    "$L(w) := \\log P(Y \\mid X, w) = \\sum_i \\log \\sigma(y_i \\Phi(x_i)^T w)$\n",
    "\n",
    "2. Convince yourself, that $\\sigma'(x) = \\sigma(x) (1 - \\sigma(x))$ for the logistic function. What is $\\nabla_w L(w)$?\n",
    "3. Fit a binary logistic regression model to the problem of distinguishing 4s vs 7s in the MNIST dataset.\n",
    "4. Plot some samples in the training set, where the model made a mistake"
   ]
  },
  {
   "cell_type": "code",
   "execution_count": null,
   "metadata": {},
   "outputs": [],
   "source": [
    "import sklearn\n",
    "from sklearn.datasets import fetch_openml\n",
    "\n",
    "X, y = fetch_openml('mnist_784', version=1, return_X_y=True) \n",
    "X /= 255.0 # scale to 0-1 range\n",
    "y = sklearn.preprocessing.LabelEncoder().fit_transform(y)"
   ]
  }
 ],
 "metadata": {
  "kernelspec": {
   "display_name": "Python 3",
   "language": "python",
   "name": "python3"
  },
  "language_info": {
   "codemirror_mode": {
    "name": "ipython",
    "version": 3
   },
   "file_extension": ".py",
   "mimetype": "text/x-python",
   "name": "python",
   "nbconvert_exporter": "python",
   "pygments_lexer": "ipython3",
   "version": "3.6.10"
  }
 },
 "nbformat": 4,
 "nbformat_minor": 4
}
