{
 "cells": [
  {
   "cell_type": "markdown",
   "metadata": {},
   "source": [
    "# MNIST with `ipcmagic` and TensorFlow-2.2\n",
    "\n",
    " * The two nodes have different names\n",
    " * Both nodes are using the GPU\n",
    " * After running `ipcluster stop` the GPU memory ussage goes to zero.\n",
    " \n",
    " > To run this notebook it's necessary to have ipcmagic and TF2.2 modules loaded. Please use the kernel miniconda-ss2020:\n",
    "\n",
    "```bash\n",
    ". /apps/daint/UES/6.0.UP04/sandboxes/sarafael/miniconda-ss2020/bin/activate\n",
    "module load daint-gpu                             \n",
    "module load jupyter-utils\n",
    "kernel-create -n miniconda-ss2020\n",
    "```\n",
    " \n",
    "Please, make sure that it doesn't conflict with any other line that you might have on your `$HOME/.jupyterhub.env` file."
   ]
  },
  {
   "cell_type": "code",
   "execution_count": 1,
   "metadata": {},
   "outputs": [
    {
     "name": "stdout",
     "output_type": "stream",
     "text": [
      "IPCluster is ready! (7 seconds)\n"
     ]
    },
    {
     "data": {
      "text/plain": [
       "[0, 1]"
      ]
     },
     "execution_count": 1,
     "metadata": {},
     "output_type": "execute_result"
    }
   ],
   "source": [
    "import ipcmagic\n",
    "import ipyparallel as ipp\n",
    "\n",
    "%ipcluster start -n 2 --mpi\n",
    "\n",
    "rc = ipp.Client()\n",
    "rc.ids"
   ]
  },
  {
   "cell_type": "code",
   "execution_count": 2,
   "metadata": {},
   "outputs": [
    {
     "data": {
      "text/plain": [
       "\u001b[0;31mOut[0:1]: \u001b[0m'2.2.0'"
      ]
     },
     "metadata": {
      "after": [],
      "completed": "2020-07-21T14:48:06.378750",
      "data": {},
      "engine_id": 0,
      "engine_uuid": "ab61bf6c-9ab320e51b26062f65a729ad",
      "error": null,
      "execute_input": "import os\nimport math\nimport json\nimport numpy as np\n\nimport tensorflow as tf\ntf.__version__\n",
      "execute_result": {
       "data": {
        "text/plain": "'2.2.0'"
       },
       "execution_count": 1,
       "metadata": {}
      },
      "follow": [],
      "msg_id": "2cae315a-f1ddc81eec35ecdace38951a_1",
      "outputs": [],
      "received": "2020-07-21T14:48:06.381109",
      "started": "2020-07-21T14:47:59.189060",
      "status": "ok",
      "stderr": "",
      "stdout": "",
      "submitted": "2020-07-21T14:47:59.186879"
     },
     "output_type": "display_data"
    },
    {
     "data": {
      "text/plain": [
       "\u001b[0;31mOut[1:1]: \u001b[0m'2.2.0'"
      ]
     },
     "metadata": {
      "after": [],
      "completed": "2020-07-21T14:48:06.828518",
      "data": {},
      "engine_id": 1,
      "engine_uuid": "3ab61ae2-d24a7061d37f0fd690c95064",
      "error": null,
      "execute_input": "import os\nimport math\nimport json\nimport numpy as np\n\nimport tensorflow as tf\ntf.__version__\n",
      "execute_result": {
       "data": {
        "text/plain": "'2.2.0'"
       },
       "execution_count": 1,
       "metadata": {}
      },
      "follow": [],
      "msg_id": "2cae315a-f1ddc81eec35ecdace38951a_2",
      "outputs": [],
      "received": "2020-07-21T14:48:06.831169",
      "started": "2020-07-21T14:47:59.189007",
      "status": "ok",
      "stderr": "",
      "stdout": "",
      "submitted": "2020-07-21T14:47:59.187133"
     },
     "output_type": "display_data"
    }
   ],
   "source": [
    "%%px\n",
    "import os\n",
    "import math\n",
    "import json\n",
    "import numpy as np\n",
    "\n",
    "import tensorflow as tf\n",
    "tf.__version__"
   ]
  },
  {
   "cell_type": "code",
   "execution_count": 3,
   "metadata": {},
   "outputs": [
    {
     "data": {
      "text/plain": [
       "\u001b[0;31mOut[0:2]: \u001b[0m\n",
       "('nid07143',\n",
       " [PhysicalDevice(name='/physical_device:GPU:0', device_type='GPU')])"
      ]
     },
     "metadata": {
      "after": [],
      "completed": "2020-07-21T14:48:07.255308",
      "data": {},
      "engine_id": 0,
      "engine_uuid": "ab61bf6c-9ab320e51b26062f65a729ad",
      "error": null,
      "execute_input": "import socket\nsocket.gethostname(), tf.config.list_physical_devices('GPU')\n",
      "execute_result": {
       "data": {
        "text/plain": "('nid07143',\n [PhysicalDevice(name='/physical_device:GPU:0', device_type='GPU')])"
       },
       "execution_count": 2,
       "metadata": {}
      },
      "follow": [],
      "msg_id": "2cae315a-f1ddc81eec35ecdace38951a_3",
      "outputs": [],
      "received": "2020-07-21T14:48:07.258120",
      "started": "2020-07-21T14:48:06.839677",
      "status": "ok",
      "stderr": "",
      "stdout": "",
      "submitted": "2020-07-21T14:48:06.837652"
     },
     "output_type": "display_data"
    },
    {
     "data": {
      "text/plain": [
       "\u001b[0;31mOut[1:2]: \u001b[0m\n",
       "('nid07144',\n",
       " [PhysicalDevice(name='/physical_device:GPU:0', device_type='GPU')])"
      ]
     },
     "metadata": {
      "after": [],
      "completed": "2020-07-21T14:48:07.102190",
      "data": {},
      "engine_id": 1,
      "engine_uuid": "3ab61ae2-d24a7061d37f0fd690c95064",
      "error": null,
      "execute_input": "import socket\nsocket.gethostname(), tf.config.list_physical_devices('GPU')\n",
      "execute_result": {
       "data": {
        "text/plain": "('nid07144',\n [PhysicalDevice(name='/physical_device:GPU:0', device_type='GPU')])"
       },
       "execution_count": 2,
       "metadata": {}
      },
      "follow": [],
      "msg_id": "2cae315a-f1ddc81eec35ecdace38951a_4",
      "outputs": [],
      "received": "2020-07-21T14:48:07.105064",
      "started": "2020-07-21T14:48:06.839589",
      "status": "ok",
      "stderr": "",
      "stdout": "",
      "submitted": "2020-07-21T14:48:06.837867"
     },
     "output_type": "display_data"
    }
   ],
   "source": [
    "%%px\n",
    "import socket\n",
    "socket.gethostname(), tf.config.list_physical_devices('GPU')"
   ]
  },
  {
   "cell_type": "code",
   "execution_count": 4,
   "metadata": {},
   "outputs": [],
   "source": [
    "%%px\n",
    "# generally MultiWorkerMirroredStrategy requires 'TF_CONFIG' to be set, but in our case\n",
    "# SlurmClusterResolver takes care of all the configuration\n",
    "strategy = tf.distribute.experimental.MultiWorkerMirroredStrategy(\n",
    "    cluster_resolver=tf.distribute.cluster_resolver.SlurmClusterResolver(),\n",
    "    communication=tf.distribute.experimental.CollectiveCommunication.NCCL,\n",
    ")\n",
    "\n",
    "# os.environ['TF_CONFIG'] = json.dumps({\n",
    "#     'cluster': {\n",
    "#         'worker': [f\"{os.environ['SLURM_JOB_NODELIST'][:4]}{node}:8888\"\n",
    "#                    for node in os.environ['SLURM_JOB_NODELIST'][5:-1].split('-')]\n",
    "#     },\n",
    "#     'task': {'type': 'worker', 'index': os.environ['SLURM_NODEID']}\n",
    "# })\n",
    "# os.environ['TF_CONFIG']"
   ]
  },
  {
   "cell_type": "code",
   "execution_count": 5,
   "metadata": {},
   "outputs": [
    {
     "data": {
      "text/plain": [
       "\u001b[0;31mOut[0:4]: \u001b[0m(0, 300, 0.3)"
      ]
     },
     "metadata": {
      "after": [],
      "completed": "2020-07-21T14:48:07.473350",
      "data": {},
      "engine_id": 0,
      "engine_uuid": "ab61bf6c-9ab320e51b26062f65a729ad",
      "error": null,
      "execute_input": "num_workers = int(os.environ['SLURM_NNODES'])\nnode_id = int(os.environ['SLURM_NODEID'])\n\nper_worker_batch_size = 300\n# Here the batch size scales up by number of workers since \n# `tf.data.Dataset.batch` expects the global batch size.\nbatch_size = per_worker_batch_size * num_workers\n\nlearning_rate = 5e-4 * batch_size\n\nnode_id, per_worker_batch_size, learning_rate\n",
      "execute_result": {
       "data": {
        "text/plain": "(0, 300, 0.3)"
       },
       "execution_count": 4,
       "metadata": {}
      },
      "follow": [],
      "msg_id": "2cae315a-f1ddc81eec35ecdace38951a_7",
      "outputs": [],
      "received": "2020-07-21T14:48:07.476995",
      "started": "2020-07-21T14:48:07.468818",
      "status": "ok",
      "stderr": "",
      "stdout": "",
      "submitted": "2020-07-21T14:48:07.466898"
     },
     "output_type": "display_data"
    },
    {
     "data": {
      "text/plain": [
       "\u001b[0;31mOut[1:4]: \u001b[0m(1, 300, 0.3)"
      ]
     },
     "metadata": {
      "after": [],
      "completed": "2020-07-21T14:48:07.472161",
      "data": {},
      "engine_id": 1,
      "engine_uuid": "3ab61ae2-d24a7061d37f0fd690c95064",
      "error": null,
      "execute_input": "num_workers = int(os.environ['SLURM_NNODES'])\nnode_id = int(os.environ['SLURM_NODEID'])\n\nper_worker_batch_size = 300\n# Here the batch size scales up by number of workers since \n# `tf.data.Dataset.batch` expects the global batch size.\nbatch_size = per_worker_batch_size * num_workers\n\nlearning_rate = 5e-4 * batch_size\n\nnode_id, per_worker_batch_size, learning_rate\n",
      "execute_result": {
       "data": {
        "text/plain": "(1, 300, 0.3)"
       },
       "execution_count": 4,
       "metadata": {}
      },
      "follow": [],
      "msg_id": "2cae315a-f1ddc81eec35ecdace38951a_8",
      "outputs": [],
      "received": "2020-07-21T14:48:07.475021",
      "started": "2020-07-21T14:48:07.468892",
      "status": "ok",
      "stderr": "",
      "stdout": "",
      "submitted": "2020-07-21T14:48:07.467030"
     },
     "output_type": "display_data"
    }
   ],
   "source": [
    "%%px\n",
    "num_workers = int(os.environ['SLURM_NNODES'])\n",
    "node_id = int(os.environ['SLURM_NODEID'])\n",
    "\n",
    "per_worker_batch_size = 300\n",
    "# Here the batch size scales up by number of workers since \n",
    "# `tf.data.Dataset.batch` expects the global batch size.\n",
    "batch_size = per_worker_batch_size * num_workers\n",
    "\n",
    "learning_rate = 5e-4 * batch_size\n",
    "\n",
    "node_id, per_worker_batch_size, learning_rate"
   ]
  },
  {
   "cell_type": "code",
   "execution_count": 6,
   "metadata": {},
   "outputs": [
    {
     "name": "stdout",
     "output_type": "stream",
     "text": [
      "[stdout:0] \n",
      "Model: \"sequential\"\n",
      "_________________________________________________________________\n",
      "Layer (type)                 Output Shape              Param #   \n",
      "=================================================================\n",
      "reshape (Reshape)            (None, 28, 28, 1)         0         \n",
      "_________________________________________________________________\n",
      "conv2d (Conv2D)              (None, 26, 26, 32)        320       \n",
      "_________________________________________________________________\n",
      "bn0 (BatchNormalization)     (None, 26, 26, 32)        128       \n",
      "_________________________________________________________________\n",
      "flatten (Flatten)            (None, 21632)             0         \n",
      "_________________________________________________________________\n",
      "bn1 (BatchNormalization)     (None, 21632)             86528     \n",
      "_________________________________________________________________\n",
      "dense (Dense)                (None, 128)               2769024   \n",
      "_________________________________________________________________\n",
      "bn2 (BatchNormalization)     (None, 128)               512       \n",
      "_________________________________________________________________\n",
      "dense_1 (Dense)              (None, 10)                1290      \n",
      "=================================================================\n",
      "Total params: 2,857,802\n",
      "Trainable params: 2,814,218\n",
      "Non-trainable params: 43,584\n",
      "_________________________________________________________________\n",
      "[stdout:1] \n",
      "Model: \"sequential\"\n",
      "_________________________________________________________________\n",
      "Layer (type)                 Output Shape              Param #   \n",
      "=================================================================\n",
      "reshape (Reshape)            (None, 28, 28, 1)         0         \n",
      "_________________________________________________________________\n",
      "conv2d (Conv2D)              (None, 26, 26, 32)        320       \n",
      "_________________________________________________________________\n",
      "bn0 (BatchNormalization)     (None, 26, 26, 32)        128       \n",
      "_________________________________________________________________\n",
      "flatten (Flatten)            (None, 21632)             0         \n",
      "_________________________________________________________________\n",
      "bn1 (BatchNormalization)     (None, 21632)             86528     \n",
      "_________________________________________________________________\n",
      "dense (Dense)                (None, 128)               2769024   \n",
      "_________________________________________________________________\n",
      "bn2 (BatchNormalization)     (None, 128)               512       \n",
      "_________________________________________________________________\n",
      "dense_1 (Dense)              (None, 10)                1290      \n",
      "=================================================================\n",
      "Total params: 2,857,802\n",
      "Trainable params: 2,814,218\n",
      "Non-trainable params: 43,584\n",
      "_________________________________________________________________\n"
     ]
    }
   ],
   "source": [
    "%%px\n",
    "def build_and_compile_cnn_model(learning_rate=learning_rate):\n",
    "    model = tf.keras.Sequential([\n",
    "        tf.keras.Input(shape=(28, 28)),\n",
    "        tf.keras.layers.Reshape(target_shape=(28, 28, 1)),\n",
    "        tf.keras.layers.Conv2D(32, 3, activation='relu'),\n",
    "        tf.keras.layers.BatchNormalization(name='bn0'),\n",
    "        tf.keras.layers.Flatten(),\n",
    "        tf.keras.layers.BatchNormalization(name='bn1'),\n",
    "        tf.keras.layers.Dense(128, activation='relu'),\n",
    "        tf.keras.layers.BatchNormalization(name='bn2'),\n",
    "        tf.keras.layers.Dense(10)\n",
    "    ])\n",
    "    model.compile(\n",
    "        loss=tf.keras.losses.SparseCategoricalCrossentropy(from_logits=True),\n",
    "        optimizer=tf.keras.optimizers.SGD(learning_rate=learning_rate, momentum=0.9, nesterov=True),\n",
    "        metrics=['accuracy'])\n",
    "    model.summary()\n",
    "    return model\n",
    "\n",
    "\n",
    "with strategy.scope():\n",
    "    # Model building/compiling need to be within `strategy.scope()`.\n",
    "    multi_worker_model = build_and_compile_cnn_model()"
   ]
  },
  {
   "cell_type": "code",
   "execution_count": 7,
   "metadata": {},
   "outputs": [
    {
     "data": {
      "text/plain": [
       "\u001b[0;31mOut[0:6]: \u001b[0m(60000, 10000)"
      ]
     },
     "metadata": {
      "after": [],
      "completed": "2020-07-21T14:48:10.280769",
      "data": {},
      "engine_id": 0,
      "engine_uuid": "ab61bf6c-9ab320e51b26062f65a729ad",
      "error": null,
      "execute_input": "(x_train, y_train), (x_test, y_test) = tf.keras.datasets.mnist.load_data()\n\ntrain_size = len(y_train)\nvalid_size = len(y_test)\n\n# The `x` arrays are in uint8 and have values in the range [0, 255].\n# We need to convert them to float32 with values in the range [0, 1]\ntrain_dataset = (tf.data.Dataset\n                        .from_tensor_slices((x_train / np.float32(255), y_train.astype(np.int64)))\n                        .shuffle(train_size)\n                        .repeat()\n                        .batch(batch_size, drop_remainder=True))\n\nvalid_dataset = (tf.data.Dataset\n                        .from_tensor_slices((x_test / np.float32(255), y_test.astype(np.int64)))\n                        .batch(batch_size, drop_remainder=False))\n\n# In multi-worker training with MultiWorkerMirroredStrategy, sharding the dataset\n# is needed to ensure convergence and performance. However, note that in code here,\n# the datasets are directly passed to model.fit() without needing to shard; this is\n# because tf.distribute.Strategy API takes care of the dataset sharding automatically.\n\ntrain_size, valid_size\n",
      "execute_result": {
       "data": {
        "text/plain": "(60000, 10000)"
       },
       "execution_count": 6,
       "metadata": {}
      },
      "follow": [],
      "msg_id": "2cae315a-f1ddc81eec35ecdace38951a_11",
      "outputs": [],
      "received": "2020-07-21T14:48:10.283343",
      "started": "2020-07-21T14:48:09.722453",
      "status": "ok",
      "stderr": "",
      "stdout": "",
      "submitted": "2020-07-21T14:48:09.720468"
     },
     "output_type": "display_data"
    },
    {
     "data": {
      "text/plain": [
       "\u001b[0;31mOut[1:6]: \u001b[0m(60000, 10000)"
      ]
     },
     "metadata": {
      "after": [],
      "completed": "2020-07-21T14:48:10.310679",
      "data": {},
      "engine_id": 1,
      "engine_uuid": "3ab61ae2-d24a7061d37f0fd690c95064",
      "error": null,
      "execute_input": "(x_train, y_train), (x_test, y_test) = tf.keras.datasets.mnist.load_data()\n\ntrain_size = len(y_train)\nvalid_size = len(y_test)\n\n# The `x` arrays are in uint8 and have values in the range [0, 255].\n# We need to convert them to float32 with values in the range [0, 1]\ntrain_dataset = (tf.data.Dataset\n                        .from_tensor_slices((x_train / np.float32(255), y_train.astype(np.int64)))\n                        .shuffle(train_size)\n                        .repeat()\n                        .batch(batch_size, drop_remainder=True))\n\nvalid_dataset = (tf.data.Dataset\n                        .from_tensor_slices((x_test / np.float32(255), y_test.astype(np.int64)))\n                        .batch(batch_size, drop_remainder=False))\n\n# In multi-worker training with MultiWorkerMirroredStrategy, sharding the dataset\n# is needed to ensure convergence and performance. However, note that in code here,\n# the datasets are directly passed to model.fit() without needing to shard; this is\n# because tf.distribute.Strategy API takes care of the dataset sharding automatically.\n\ntrain_size, valid_size\n",
      "execute_result": {
       "data": {
        "text/plain": "(60000, 10000)"
       },
       "execution_count": 6,
       "metadata": {}
      },
      "follow": [],
      "msg_id": "2cae315a-f1ddc81eec35ecdace38951a_12",
      "outputs": [],
      "received": "2020-07-21T14:48:10.313135",
      "started": "2020-07-21T14:48:09.722393",
      "status": "ok",
      "stderr": "",
      "stdout": "",
      "submitted": "2020-07-21T14:48:09.720648"
     },
     "output_type": "display_data"
    }
   ],
   "source": [
    "%%px\n",
    "(x_train, y_train), (x_test, y_test) = tf.keras.datasets.mnist.load_data()\n",
    "\n",
    "train_size = len(y_train)\n",
    "valid_size = len(y_test)\n",
    "\n",
    "# The `x` arrays are in uint8 and have values in the range [0, 255].\n",
    "# We need to convert them to float32 with values in the range [0, 1]\n",
    "train_dataset = (tf.data.Dataset\n",
    "                        .from_tensor_slices((x_train / np.float32(255), y_train.astype(np.int64)))\n",
    "                        .shuffle(train_size)\n",
    "                        .repeat()\n",
    "                        .batch(batch_size, drop_remainder=True))\n",
    "\n",
    "valid_dataset = (tf.data.Dataset\n",
    "                        .from_tensor_slices((x_test / np.float32(255), y_test.astype(np.int64)))\n",
    "                        .batch(batch_size, drop_remainder=False))\n",
    "\n",
    "# In multi-worker training with MultiWorkerMirroredStrategy, sharding the dataset\n",
    "# is needed to ensure convergence and performance. However, note that in code here,\n",
    "# the datasets are directly passed to model.fit() without needing to shard; this is\n",
    "# because tf.distribute.Strategy API takes care of the dataset sharding automatically.\n",
    "\n",
    "train_size, valid_size"
   ]
  },
  {
   "cell_type": "code",
   "execution_count": 8,
   "metadata": {},
   "outputs": [
    {
     "data": {
      "text/plain": [
       "[output:0]"
      ]
     },
     "metadata": {},
     "output_type": "display_data"
    },
    {
     "data": {
      "image/png": "[encoded data removed]",
      "text/plain": [
       "<Figure size 432x288 with 1 Axes>"
      ]
     },
     "metadata": {
      "engine": 0,
      "needs_background": "light"
     },
     "output_type": "display_data"
    },
    {
     "data": {
      "text/plain": [
       "[output:1]"
      ]
     },
     "metadata": {},
     "output_type": "display_data"
    },
    {
     "data": {
      "image/png": "[encoded data removed]",
      "text/plain": [
       "<Figure size 432x288 with 1 Axes>"
      ]
     },
     "metadata": {
      "engine": 1,
      "needs_background": "light"
     },
     "output_type": "display_data"
    },
    {
     "data": {
      "text/plain": [
       "\u001b[0;31mOut[0:7]: \u001b[0mText(0.5, 1.0, '7')"
      ]
     },
     "metadata": {
      "after": [],
      "completed": "2020-07-21T14:48:10.775877",
      "data": {},
      "engine_id": 0,
      "engine_uuid": "ab61bf6c-9ab320e51b26062f65a729ad",
      "error": null,
      "execute_input": "from matplotlib import pyplot as plt\nplt.imshow(x_test[node_id])\nplt.title(str(y_test[node_id]))\n",
      "execute_result": {
       "data": {
        "text/plain": "Text(0.5, 1.0, '7')"
       },
       "execution_count": 7,
       "metadata": {}
      },
      "follow": [],
      "msg_id": "2cae315a-f1ddc81eec35ecdace38951a_13",
      "outputs": [
       {
        "data": {
         "image/png": "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\n",
         "text/plain": "<Figure size 432x288 with 1 Axes>"
        },
        "metadata": {
         "engine": 0,
         "needs_background": "light"
        },
        "transient": {}
       }
      ],
      "received": "2020-07-21T14:48:10.778079",
      "started": "2020-07-21T14:48:10.321510",
      "status": "ok",
      "stderr": "",
      "stdout": "",
      "submitted": "2020-07-21T14:48:10.319530"
     },
     "output_type": "display_data"
    },
    {
     "data": {
      "text/plain": [
       "\u001b[0;31mOut[1:7]: \u001b[0mText(0.5, 1.0, '2')"
      ]
     },
     "metadata": {
      "after": [],
      "completed": "2020-07-21T14:48:10.779213",
      "data": {},
      "engine_id": 1,
      "engine_uuid": "3ab61ae2-d24a7061d37f0fd690c95064",
      "error": null,
      "execute_input": "from matplotlib import pyplot as plt\nplt.imshow(x_test[node_id])\nplt.title(str(y_test[node_id]))\n",
      "execute_result": {
       "data": {
        "text/plain": "Text(0.5, 1.0, '2')"
       },
       "execution_count": 7,
       "metadata": {}
      },
      "follow": [],
      "msg_id": "2cae315a-f1ddc81eec35ecdace38951a_14",
      "outputs": [
       {
        "data": {
         "image/png": "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\n",
         "text/plain": "<Figure size 432x288 with 1 Axes>"
        },
        "metadata": {
         "engine": 1,
         "needs_background": "light"
        },
        "transient": {}
       }
      ],
      "received": "2020-07-21T14:48:10.781532",
      "started": "2020-07-21T14:48:10.321450",
      "status": "ok",
      "stderr": "",
      "stdout": "",
      "submitted": "2020-07-21T14:48:10.319708"
     },
     "output_type": "display_data"
    }
   ],
   "source": [
    "%%px\n",
    "from matplotlib import pyplot as plt\n",
    "plt.imshow(x_test[node_id])\n",
    "plt.title(str(y_test[node_id]))"
   ]
  },
  {
   "cell_type": "code",
   "execution_count": 9,
   "metadata": {},
   "outputs": [
    {
     "data": {
      "text/plain": [
       "\u001b[0;31mOut[0:8]: \u001b[0m'/scratch/snx3000/dealmeih/summer_school/keras-mnist/logs/20200721-164810'"
      ]
     },
     "metadata": {
      "after": [],
      "completed": "2020-07-21T14:48:10.794298",
      "data": {},
      "engine_id": 0,
      "engine_uuid": "ab61bf6c-9ab320e51b26062f65a729ad",
      "error": null,
      "execute_input": "import time\ntimestr = time.strftime(\"%Y%m%d-%H%M%S\")\noutput_path = os.environ['SCRATCH'] + \"/summer_school/keras-mnist\"\ntb_logdir = f'{output_path}/logs/{timestr}'\n\ntb_logdir\n",
      "execute_result": {
       "data": {
        "text/plain": "'/scratch/snx3000/dealmeih/summer_school/keras-mnist/logs/20200721-164810'"
       },
       "execution_count": 8,
       "metadata": {}
      },
      "follow": [],
      "msg_id": "2cae315a-f1ddc81eec35ecdace38951a_15",
      "outputs": [],
      "received": "2020-07-21T14:48:10.798568",
      "started": "2020-07-21T14:48:10.791399",
      "status": "ok",
      "stderr": "",
      "stdout": "",
      "submitted": "2020-07-21T14:48:10.789602"
     },
     "output_type": "display_data"
    },
    {
     "data": {
      "text/plain": [
       "\u001b[0;31mOut[1:8]: \u001b[0m'/scratch/snx3000/dealmeih/summer_school/keras-mnist/logs/20200721-164810'"
      ]
     },
     "metadata": {
      "after": [],
      "completed": "2020-07-21T14:48:10.793923",
      "data": {},
      "engine_id": 1,
      "engine_uuid": "3ab61ae2-d24a7061d37f0fd690c95064",
      "error": null,
      "execute_input": "import time\ntimestr = time.strftime(\"%Y%m%d-%H%M%S\")\noutput_path = os.environ['SCRATCH'] + \"/summer_school/keras-mnist\"\ntb_logdir = f'{output_path}/logs/{timestr}'\n\ntb_logdir\n",
      "execute_result": {
       "data": {
        "text/plain": "'/scratch/snx3000/dealmeih/summer_school/keras-mnist/logs/20200721-164810'"
       },
       "execution_count": 8,
       "metadata": {}
      },
      "follow": [],
      "msg_id": "2cae315a-f1ddc81eec35ecdace38951a_16",
      "outputs": [],
      "received": "2020-07-21T14:48:10.796578",
      "started": "2020-07-21T14:48:10.791310",
      "status": "ok",
      "stderr": "",
      "stdout": "",
      "submitted": "2020-07-21T14:48:10.789797"
     },
     "output_type": "display_data"
    }
   ],
   "source": [
    "%%px\n",
    "import time\n",
    "timestr = time.strftime(\"%Y%m%d-%H%M%S\")\n",
    "output_path = os.environ['SCRATCH'] + \"/summer_school/keras-mnist\"\n",
    "tb_logdir = f'{output_path}/logs/{timestr}'\n",
    "\n",
    "tb_logdir"
   ]
  },
  {
   "cell_type": "code",
   "execution_count": 10,
   "metadata": {},
   "outputs": [
    {
     "data": {
      "text/html": [
       "\n",
       "        <iframe\n",
       "            width=\"100%\"\n",
       "            height=\"800\"\n",
       "            src=\"https://dealmeih.jupyter.cscs.ch/hub/user-redirect/proxy/6009/#scalars\"\n",
       "            frameborder=\"0\"\n",
       "            allowfullscreen\n",
       "        ></iframe>\n",
       "        "
      ],
      "text/plain": [
       "<IPython.lib.display.IFrame at 0x2aaab2eb35f8>"
      ]
     },
     "metadata": {},
     "output_type": "display_data"
    }
   ],
   "source": [
    "import os, shutil\n",
    "from tb_cscs import tensorboard\n",
    "\n",
    "tb_logdir = os.environ['SCRATCH'] + \"/summer_school/keras-mnist/logs\"\n",
    "shutil.rmtree(tb_logdir, ignore_errors=True)\n",
    "\n",
    "%tensorboard  --logdir={tb_logdir}  --host localhost"
   ]
  },
  {
   "cell_type": "code",
   "execution_count": 11,
   "metadata": {},
   "outputs": [
    {
     "name": "stdout",
     "output_type": "stream",
     "text": [
      "[stdout:0] Training for 100 steps per epoch across 2 nodes\n",
      "[stdout:1] Training for 100 steps per epoch across 2 nodes\n"
     ]
    }
   ],
   "source": [
    "%%px\n",
    "# Keras' `model.fit()` trains the model with specified number of steps and epochs across all nodes\n",
    "steps_per_epoch = train_size // batch_size\n",
    "validation_steps = math.ceil(valid_size / batch_size)\n",
    "print(f'Training for {steps_per_epoch} steps per epoch across {num_workers} nodes')"
   ]
  },
  {
   "cell_type": "code",
   "execution_count": 12,
   "metadata": {
    "scrolled": true
   },
   "outputs": [
    {
     "name": "stdout",
     "output_type": "stream",
     "text": [
      "[stdout:0] \n",
      "Epoch 1/7\n",
      "100/100 [==============================] - 2s 24ms/step - accuracy: 0.9353 - loss: 0.2166 - val_accuracy: 0.3964 - val_loss: 3.2077\n",
      "Epoch 2/7\n",
      "100/100 [==============================] - 1s 11ms/step - accuracy: 0.9822 - loss: 0.0594 - val_accuracy: 0.4633 - val_loss: 2.4384\n",
      "Epoch 3/7\n",
      "100/100 [==============================] - 1s 12ms/step - accuracy: 0.9889 - loss: 0.0378 - val_accuracy: 0.7253 - val_loss: 1.0532\n",
      "Epoch 4/7\n",
      "100/100 [==============================] - 1s 12ms/step - accuracy: 0.9929 - loss: 0.0232 - val_accuracy: 0.9400 - val_loss: 0.1754\n",
      "Epoch 5/7\n",
      "100/100 [==============================] - 1s 12ms/step - accuracy: 0.9954 - loss: 0.0166 - val_accuracy: 0.9734 - val_loss: 0.0826\n",
      "Epoch 6/7\n",
      "100/100 [==============================] - 1s 12ms/step - accuracy: 0.9970 - loss: 0.0110 - val_accuracy: 0.9794 - val_loss: 0.0685\n",
      "Epoch 7/7\n",
      "100/100 [==============================] - 1s 12ms/step - accuracy: 0.9983 - loss: 0.0074 - val_accuracy: 0.9826 - val_loss: 0.0619\n",
      "[stdout:1] \n",
      "Epoch 1/7\n",
      "100/100 [==============================] - 2s 24ms/step - accuracy: 0.9353 - loss: 0.2166 - val_accuracy: 0.3964 - val_loss: 3.2077\n",
      "Epoch 2/7\n",
      "100/100 [==============================] - 1s 11ms/step - accuracy: 0.9822 - loss: 0.0594 - val_accuracy: 0.4633 - val_loss: 2.4384\n",
      "Epoch 3/7\n",
      "100/100 [==============================] - 1s 12ms/step - accuracy: 0.9889 - loss: 0.0378 - val_accuracy: 0.7253 - val_loss: 1.0532\n",
      "Epoch 4/7\n",
      "100/100 [==============================] - 1s 12ms/step - accuracy: 0.9929 - loss: 0.0232 - val_accuracy: 0.9400 - val_loss: 0.1754\n",
      "Epoch 5/7\n",
      "100/100 [==============================] - 1s 12ms/step - accuracy: 0.9954 - loss: 0.0166 - val_accuracy: 0.9734 - val_loss: 0.0826\n",
      "Epoch 6/7\n",
      "100/100 [==============================] - 1s 12ms/step - accuracy: 0.9970 - loss: 0.0110 - val_accuracy: 0.9794 - val_loss: 0.0685\n",
      "Epoch 7/7\n",
      "100/100 [==============================] - 1s 12ms/step - accuracy: 0.9983 - loss: 0.0074 - val_accuracy: 0.9826 - val_loss: 0.0619\n"
     ]
    }
   ],
   "source": [
    "%%px\n",
    "\n",
    "tensorboard_cb = tf.keras.callbacks.TensorBoard(log_dir=tb_logdir,\n",
    "                                                update_freq=steps_per_epoch//10, # 10x/epoch\n",
    "                                                histogram_freq=0,\n",
    "                                                profile_batch=0)\n",
    "\n",
    "multi_worker_model.fit(train_dataset,\n",
    "                       epochs=7,\n",
    "                       steps_per_epoch=steps_per_epoch,\n",
    "                       validation_data=valid_dataset,\n",
    "                       validation_steps=validation_steps,\n",
    "                       callbacks=[tensorboard_cb],\n",
    "                      )"
   ]
  },
  {
   "cell_type": "code",
   "execution_count": 13,
   "metadata": {},
   "outputs": [
    {
     "name": "stdout",
     "output_type": "stream",
     "text": [
      "17/17 [==============================] - 0s 3ms/step - accuracy: 0.9826 - loss: 0.0619\n",
      "17/17 [==============================] - 0s 3ms/step - accuracy: 0.9826 - loss: 0.0619\n"
     ]
    }
   ],
   "source": [
    "%%px\n",
    "multi_worker_model.evaluate(valid_dataset, batch_size=batch_size, steps=validation_steps)"
   ]
  },
  {
   "cell_type": "code",
   "execution_count": 14,
   "metadata": {},
   "outputs": [],
   "source": [
    "%ipcluster stop"
   ]
  },
  {
   "cell_type": "markdown",
   "metadata": {},
   "source": [
    "#### "
   ]
  }
 ],
 "metadata": {
  "kernelspec": {
   "display_name": "miniconda-sc2020",
   "language": "python",
   "name": "miniconda-sc2020"
  },
  "language_info": {
   "codemirror_mode": {
    "name": "ipython",
    "version": 3
   },
   "file_extension": ".py",
   "mimetype": "text/x-python",
   "name": "python",
   "nbconvert_exporter": "python",
   "pygments_lexer": "ipython3",
   "version": "3.6.10"
  }
 },
 "nbformat": 4,
 "nbformat_minor": 4
}
