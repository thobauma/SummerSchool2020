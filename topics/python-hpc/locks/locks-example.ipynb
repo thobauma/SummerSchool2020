{
 "cells": [
  {
   "cell_type": "code",
   "execution_count": null,
   "metadata": {},
   "outputs": [],
   "source": [
    "import threading"
   ]
  },
  {
   "cell_type": "code",
   "execution_count": null,
   "metadata": {},
   "outputs": [],
   "source": [
    "lock = threading.Lock()"
   ]
  },
  {
   "cell_type": "code",
   "execution_count": null,
   "metadata": {},
   "outputs": [],
   "source": [
    "def function1():\n",
    "    c = '\\033[91m'  # red\n",
    "    for i in range(10):\n",
    "        lock.acquire()\n",
    "        for word in ['Hello', 'from', 'the', 'first', 'function\\n']:\n",
    "            print(f' {c}{word}', end='')\n",
    "        \n",
    "        lock.release()\n",
    "\n",
    "def function2():\n",
    "    c = '\\033[92m'  # green\n",
    "    for i in range(10):\n",
    "        lock.acquire()\n",
    "        for word in ['Hello', 'from', 'the', 'second', 'function\\n']:\n",
    "            print(f' {c}{word}', end='')\n",
    "            \n",
    "        lock.release()"
   ]
  },
  {
   "cell_type": "code",
   "execution_count": null,
   "metadata": {},
   "outputs": [],
   "source": [
    "thread_1 = threading.Thread(target=function1)\n",
    "thread_2 = threading.Thread(target=function2)\n",
    "\n",
    "thread_1.start()\n",
    "thread_2.start()\n",
    "\n",
    "thread_1.join()\n",
    "thread_2.join()"
   ]
  }
 ],
 "metadata": {
  "kernelspec": {
   "display_name": "Python 3",
   "language": "python",
   "name": "python3"
  },
  "language_info": {
   "codemirror_mode": {
    "name": "ipython",
    "version": 3
   },
   "file_extension": ".py",
   "mimetype": "text/x-python",
   "name": "python",
   "nbconvert_exporter": "python",
   "pygments_lexer": "ipython3",
   "version": "3.7.7"
  }
 },
 "nbformat": 4,
 "nbformat_minor": 4
}
