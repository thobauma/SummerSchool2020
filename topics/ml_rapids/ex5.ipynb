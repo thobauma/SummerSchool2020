{
 "cells": [
  {
   "cell_type": "markdown",
   "metadata": {},
   "source": [
    "## Exercise 5\n",
    "\n",
    "Given a set of training points $x_0 = -1, x_1=-0.5, x_2=0, x_3=0.5, x_4=1$. For the trees from Exercise 4, \n",
    "- determine the vector $w$\n",
    "- evaluate the function $q$\n",
    "- find the set $\\mathcal{L}_n$ for all leaves $n$"
   ]
  },
  {
   "cell_type": "markdown",
   "metadata": {},
   "source": [
    "tree1:  \n",
    "$w=(0.15)$\\\n",
    "$q: 0,0,0,0,0$\\\n",
    "$\\mathcal{L}_0=0,1,2,3,4$"
   ]
  },
  {
   "cell_type": "markdown",
   "metadata": {},
   "source": [
    "tree2:  \n",
    "$w=(0.1,0.2)$\\\n",
    "$q: 0,0,1,1,1$\\\n",
    "$\\mathcal{L}_0= 0,1$\\\n",
    "$\\mathcal{L}_1= 2,3,4$"
   ]
  },
  {
   "cell_type": "markdown",
   "metadata": {},
   "source": [
    "tree3:  \n",
    "$w=(0.1,0.2,0.1)$\\\n",
    "$q: 0,0,1,2,2$\\\n",
    "$\\mathcal{L}_0= 0,1$\\\n",
    "$\\mathcal{L}_1= 2$\\\n",
    "$\\mathcal{L}_2= 3,4$"
   ]
  },
  {
   "cell_type": "code",
   "execution_count": null,
   "metadata": {},
   "outputs": [],
   "source": []
  }
 ],
 "metadata": {
  "kernelspec": {
   "display_name": "Python 3",
   "language": "python",
   "name": "python3"
  },
  "language_info": {
   "codemirror_mode": {
    "name": "ipython",
    "version": 3
   },
   "file_extension": ".py",
   "mimetype": "text/x-python",
   "name": "python",
   "nbconvert_exporter": "python",
   "pygments_lexer": "ipython3",
   "version": "3.6.5"
  }
 },
 "nbformat": 4,
 "nbformat_minor": 4
}
