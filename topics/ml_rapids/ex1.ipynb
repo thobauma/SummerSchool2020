{
 "cells": [
  {
   "cell_type": "markdown",
   "metadata": {},
   "source": [
    "## Exercise 1. Warm-up: Regression with order-$k$ polynomials\n",
    "\n",
    "1. Convince yourself, that the least squares solution is $\\hat w = (\\Phi^T \\Phi)^{-1} \\Phi^Ty$.\n",
    "2. What condition does the data matrix have to fulfill in order for the solution to exist?\n",
    "3. Find the solution for $k=0$\n",
    "4. Adding l2-regularizer, convince yourself that $\\hat w = (\\Phi^T \\Phi + \\lambda I)^{-1} \\Phi^Ty$.\n"
   ]
  }
 ],
 "metadata": {
  "kernelspec": {
   "display_name": "Python 3",
   "language": "python",
   "name": "python3"
  },
  "language_info": {
   "codemirror_mode": {
    "name": "ipython",
    "version": 3
   },
   "file_extension": ".py",
   "mimetype": "text/x-python",
   "name": "python",
   "nbconvert_exporter": "python",
   "pygments_lexer": "ipython3",
   "version": "3.6.10"
  }
 },
 "nbformat": 4,
 "nbformat_minor": 4
}
