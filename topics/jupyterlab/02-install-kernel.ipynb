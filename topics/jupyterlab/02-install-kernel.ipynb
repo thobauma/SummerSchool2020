{
 "cells": [
  {
   "cell_type": "markdown",
   "metadata": {
    "slideshow": {
     "slide_type": "slide"
    }
   },
   "source": [
    "# Installing a Custom Kernel\n",
    "\n",
    "_Tim Robinson, CSCS_\n",
    "\n",
    "A Jupyter notebook is attached to a **kernel**, which runs the code. A `Python 3` kernel is provided by default.  \n",
    "\n",
    "Here we will **install a custom kernel** which loads a **conda environment** which has been created specifically for this course. It includes (amongst other things) `numba` (a JIT compiler for numerical functions in Python), `cupy` (numpy-like API for NVIDIA GPUs) and `TensorFlow`.  \n",
    "\n",
    "JupyterLab looks for user-installed kernels in `$HOME/.local/share/jupyter/kernels/`. \n",
    "\n",
    "<div class=\"alert alert-block alert-info\">\n",
    "<b>Tip:</b> In the next few days, we will mostly be using the kernel we are about to install (miniconda-ss2020). So if you find that you can't import tensorflow, for example, please check you are using the kernel miniconda-ss2020 (top right of the workspace).\n",
    "</div>\n",
    "\n",
    "We will install our new kernel by issuing commands directly from this notebook. The most important file in a kernel directory is `kernel.json`. This is a JSON serialised dictionary containing the following keys and values (and some optional others):\n",
    "- `argv`: list of command line arguments used to start the kernel. The text `{connection_file}` in any argument will be replaced with the path to the connection file (this specifies how to set up communications with the frontend).\n",
    "- `display_name`: The kernel’s name in the user interface. \n",
    "- `language`: The name of the language of the kernel. "
   ]
  },
  {
   "cell_type": "markdown",
   "metadata": {
    "slideshow": {
     "slide_type": "slide"
    }
   },
   "source": [
    "First, create a directory to hold your kernel using the `!` operator:"
   ]
  },
  {
   "cell_type": "code",
   "execution_count": 1,
   "metadata": {
    "slideshow": {
     "slide_type": "fragment"
    }
   },
   "outputs": [],
   "source": [
    "! mkdir -p ~/.local/share/jupyter/kernels/miniconda-ss2020/"
   ]
  },
  {
   "cell_type": "markdown",
   "metadata": {
    "slideshow": {
     "slide_type": "slide"
    }
   },
   "source": [
    "Now, write the `kernel.json` file in that directory, using the `%%bash` magic. We add the path to a custom helper script called `launcher`."
   ]
  },
  {
   "cell_type": "code",
   "execution_count": 2,
   "metadata": {},
   "outputs": [],
   "source": [
    "%%bash\n",
    "/bin/cat <<EOM > ~/.local/share/jupyter/kernels/miniconda-ss2020/kernel.json\n",
    "{\n",
    " \"display_name\": \"miniconda-ss2020\",\n",
    " \"language\": \"python\",\n",
    " \"argv\": [\n",
    "  \"/users/$USER/.local/share/jupyter/kernels/miniconda-ss2020/launcher\",\n",
    "  \"-f\",\n",
    "  \"{connection_file}\"\n",
    " ]\n",
    "}\n",
    "EOM"
   ]
  },
  {
   "cell_type": "markdown",
   "metadata": {
    "slideshow": {
     "slide_type": "slide"
    }
   },
   "source": [
    "Now, create the `launcher` script with the `%%writefile` magic (or by any other means!):"
   ]
  },
  {
   "cell_type": "code",
   "execution_count": 3,
   "metadata": {
    "slideshow": {
     "slide_type": "fragment"
    }
   },
   "outputs": [
    {
     "name": "stdout",
     "output_type": "stream",
     "text": [
      "Writing /users/class104/.local/share/jupyter/kernels/miniconda-ss2020/launcher\n"
     ]
    }
   ],
   "source": [
    "%%writefile ~/.local/share/jupyter/kernels/miniconda-ss2020/launcher\n",
    "#!/usr/bin/env bash\n",
    "export PYTHONPATH=''\n",
    "source /apps/daint/UES/6.0.UP04/sandboxes/sarafael/miniconda-ss2020/bin/activate\n",
    "/apps/daint/UES/6.0.UP04/sandboxes/sarafael/miniconda-ss2020/bin/python -m ipykernel_launcher $@"
   ]
  },
  {
   "cell_type": "markdown",
   "metadata": {
    "slideshow": {
     "slide_type": "slide"
    }
   },
   "source": [
    "Finally, make the custom launcher script executable:"
   ]
  },
  {
   "cell_type": "code",
   "execution_count": 4,
   "metadata": {
    "slideshow": {
     "slide_type": "fragment"
    }
   },
   "outputs": [],
   "source": [
    "! chmod +x ~/.local/share/jupyter/kernels/miniconda-ss2020/launcher"
   ]
  },
  {
   "cell_type": "markdown",
   "metadata": {},
   "source": [
    "\n",
    "We would also like our conda environment to be activated automatically when we start a Terminal from JupyterLab. Run the following cell to enable this:\n",
    "    "
   ]
  },
  {
   "cell_type": "code",
   "execution_count": 5,
   "metadata": {},
   "outputs": [],
   "source": [
    "! echo \". /apps/daint/UES/6.0.UP04/sandboxes/sarafael/miniconda-ss2020/bin/activate\" >> ~/.bashrc"
   ]
  },
  {
   "cell_type": "markdown",
   "metadata": {},
   "source": [
    "## Before switching to new kernel\n",
    "\n",
    "**Before** switching to the new kernel:\n",
    "\n",
    "<div class=\"alert alert-warning alert-block alert-info\"><b>Exercise:</b> What version of numpy is provided in the default Python 3 kernel? </div>\n",
    "<div class=\"alert alert-warning alert-block alert-info\"><b>Exercise:</b> And what is the location of numpy?</div>\n",
    "<div class=\"alert alert-warning alert-block alert-info\"><b>Exercise:</b> Confirm TensorFlow is not there</div>"
   ]
  },
  {
   "cell_type": "code",
   "execution_count": 10,
   "metadata": {
    "slideshow": {
     "slide_type": "fragment"
    }
   },
   "outputs": [],
   "source": [
    "# try to import numpy and check version and locaiton\n",
    "# try to import tensorflow"
   ]
  },
  {
   "cell_type": "code",
   "execution_count": 13,
   "metadata": {},
   "outputs": [
    {
     "name": "stdout",
     "output_type": "stream",
     "text": [
      "1.15.1\n"
     ]
    },
    {
     "data": {
      "text/plain": [
       "['/opt/python/3.6.5.7/lib/python3.6/site-packages/numpy']"
      ]
     },
     "execution_count": 13,
     "metadata": {},
     "output_type": "execute_result"
    }
   ],
   "source": [
    "import numpy as np\n",
    "print(np.__version__)\n",
    "np.__path__"
   ]
  },
  {
   "cell_type": "code",
   "execution_count": 14,
   "metadata": {},
   "outputs": [
    {
     "ename": "ModuleNotFoundError",
     "evalue": "No module named 'tensorflow'",
     "output_type": "error",
     "traceback": [
      "\u001b[0;31m---------------------------------------------------------------------------\u001b[0m",
      "\u001b[0;31mModuleNotFoundError\u001b[0m                       Traceback (most recent call last)",
      "\u001b[0;32m<ipython-input-14-64156d691fe5>\u001b[0m in \u001b[0;36m<module>\u001b[0;34m\u001b[0m\n\u001b[0;32m----> 1\u001b[0;31m \u001b[0;32mimport\u001b[0m \u001b[0mtensorflow\u001b[0m \u001b[0;32mas\u001b[0m \u001b[0mtf\u001b[0m\u001b[0;34m\u001b[0m\u001b[0m\n\u001b[0m",
      "\u001b[0;31mModuleNotFoundError\u001b[0m: No module named 'tensorflow'"
     ]
    }
   ],
   "source": [
    "import tensorflow as tf"
   ]
  },
  {
   "cell_type": "markdown",
   "metadata": {
    "slideshow": {
     "slide_type": "slide"
    }
   },
   "source": [
    "## Now attach to the new kernel\n",
    "\n",
    "Attach this notebook to the kernel you have just created. You can do this in a number of different ways:\n",
    "- Via the Main Menu (Kernel -> Change Kernel -> \"miniconda-ss2020\")\n",
    "- By clicking on \"Python 3\" at the top right of the notebook tab -> \"miniconda-ss2020\"\n",
    "- By clicking on \"Python 3\" on the JupyterLab bottom toolbar and selecting \"miniconda-ss2020\"\n",
    "- By searching for \"Change Kernel\" in the Command Palette...\n",
    "\n",
    "The new kernel will also be available when creating new notebooks via the Launcher.\n"
   ]
  },
  {
   "cell_type": "markdown",
   "metadata": {
    "slideshow": {
     "slide_type": "slide"
    }
   },
   "source": [
    "<div class=\"alert alert-warning alert-block alert-info\"><b>Exercise:</b> Verify you have switched kernel and you can execute code - What version of numpy is provided in the new kernel? And where is it located?</div>"
   ]
  },
  {
   "cell_type": "code",
   "execution_count": 2,
   "metadata": {},
   "outputs": [
    {
     "name": "stdout",
     "output_type": "stream",
     "text": [
      "1.18.5\n"
     ]
    },
    {
     "data": {
      "text/plain": [
       "['/apps/daint/UES/6.0.UP04/sandboxes/sarafael/miniconda-ss2020/lib/python3.6/site-packages/numpy']"
      ]
     },
     "execution_count": 2,
     "metadata": {},
     "output_type": "execute_result"
    }
   ],
   "source": [
    "import numpy as np\n",
    "print(np.__version__)\n",
    "np.__path__"
   ]
  },
  {
   "cell_type": "markdown",
   "metadata": {
    "slideshow": {
     "slide_type": "slide"
    }
   },
   "source": [
    "<div class=\"alert alert-warning alert-block alert-info\"><b>Exercise:</b> Which vendor linear algebra library is numpy linked to in the new kernel?</div>"
   ]
  },
  {
   "cell_type": "code",
   "execution_count": 3,
   "metadata": {
    "slideshow": {
     "slide_type": "fragment"
    }
   },
   "outputs": [
    {
     "name": "stdout",
     "output_type": "stream",
     "text": [
      "blas_mkl_info:\n",
      "    libraries = ['mkl_rt', 'pthread']\n",
      "    library_dirs = ['/apps/daint/UES/6.0.UP04/sandboxes/sarafael/miniconda-ss2020/lib']\n",
      "    define_macros = [('SCIPY_MKL_H', None), ('HAVE_CBLAS', None)]\n",
      "    include_dirs = ['/apps/daint/UES/6.0.UP04/sandboxes/sarafael/miniconda-ss2020/include']\n",
      "blas_opt_info:\n",
      "    libraries = ['mkl_rt', 'pthread']\n",
      "    library_dirs = ['/apps/daint/UES/6.0.UP04/sandboxes/sarafael/miniconda-ss2020/lib']\n",
      "    define_macros = [('SCIPY_MKL_H', None), ('HAVE_CBLAS', None)]\n",
      "    include_dirs = ['/apps/daint/UES/6.0.UP04/sandboxes/sarafael/miniconda-ss2020/include']\n",
      "lapack_mkl_info:\n",
      "    libraries = ['mkl_rt', 'pthread']\n",
      "    library_dirs = ['/apps/daint/UES/6.0.UP04/sandboxes/sarafael/miniconda-ss2020/lib']\n",
      "    define_macros = [('SCIPY_MKL_H', None), ('HAVE_CBLAS', None)]\n",
      "    include_dirs = ['/apps/daint/UES/6.0.UP04/sandboxes/sarafael/miniconda-ss2020/include']\n",
      "lapack_opt_info:\n",
      "    libraries = ['mkl_rt', 'pthread']\n",
      "    library_dirs = ['/apps/daint/UES/6.0.UP04/sandboxes/sarafael/miniconda-ss2020/lib']\n",
      "    define_macros = [('SCIPY_MKL_H', None), ('HAVE_CBLAS', None)]\n",
      "    include_dirs = ['/apps/daint/UES/6.0.UP04/sandboxes/sarafael/miniconda-ss2020/include']\n"
     ]
    }
   ],
   "source": [
    "np.show_config()"
   ]
  },
  {
   "cell_type": "markdown",
   "metadata": {},
   "source": [
    "<div class=\"alert alert-warning alert-block alert-info\"><b>Exercise:</b> Check you can import tensorflow</div>"
   ]
  },
  {
   "cell_type": "code",
   "execution_count": 5,
   "metadata": {},
   "outputs": [
    {
     "data": {
      "text/plain": [
       "'2.2.0'"
      ]
     },
     "execution_count": 5,
     "metadata": {},
     "output_type": "execute_result"
    }
   ],
   "source": [
    "import tensorflow as tf\n",
    "tf.__version__"
   ]
  },
  {
   "cell_type": "markdown",
   "metadata": {},
   "source": [
    "<div class=\"alert alert-warning alert-block alert-info\"><b>Exercise:</b> Determine what computational resources are available on the node using Numba (!numba -s). Does it match what you expect from earlier in the course?\n",
    "\n",
    "- How many CPU sockets, how many cores? What architecture...?\n",
    "- Are there GPU(s)? What is the device type, architecture...? </div>"
   ]
  },
  {
   "cell_type": "code",
   "execution_count": 9,
   "metadata": {},
   "outputs": [
    {
     "name": "stdout",
     "output_type": "stream",
     "text": [
      "System info:\n",
      "--------------------------------------------------------------------------------\n",
      "__Time Stamp__\n",
      "2020-07-17 08:58:24.741702\n",
      "\n",
      "__Hardware Information__\n",
      "Machine                                       : x86_64\n",
      "CPU Name                                      : haswell\n",
      "Number of accessible CPU cores                : 24\n",
      "Listed accessible CPUs cores                  : 0-23\n",
      "CFS restrictions                              : Information not available\n",
      "CPU Features                                  : \n",
      "64bit aes avx avx2 bmi bmi2 cmov cx16 f16c fma fsgsbase invpcid lzcnt mmx movbe\n",
      "pclmul popcnt rdrnd sahf sse sse2 sse3 sse4.1 sse4.2 ssse3 xsave xsaveopt\n",
      "\n",
      "__OS Information__\n",
      "Platform                                      : Linux-4.12.14-150.17_5.0.85-cray_ari_c-x86_64-with-glibc2.9\n",
      "Release                                       : 4.12.14-150.17_5.0.85-cray_ari_c\n",
      "System Name                                   : Linux\n",
      "Version                                       : #1 SMP Thu Aug 22 18:29:02 UTC 2019 (24c42de)\n",
      "OS specific info                              : \n",
      "glibc info                                    : glibc 2.9\n",
      "\n",
      "__Python Information__\n",
      "Python Compiler                               : GCC 7.3.0\n",
      "Python Implementation                         : CPython\n",
      "Python Version                                : 3.6.10\n",
      "Python Locale                                 : en_US UTF-8\n",
      "\n",
      "__LLVM information__\n",
      "LLVM version                                  : 8.0.1\n",
      "\n",
      "__CUDA Information__\n",
      "Found 1 CUDA devices\n",
      "id 0    b'Tesla P100-PCIE-16GB'                              [SUPPORTED]\n",
      "                      compute capability: 6.0\n",
      "                           pci device id: 0\n",
      "                              pci bus id: 2\n",
      "Summary:\n",
      "\t1/1 devices are supported\n",
      "CUDA driver version                           : 10010\n",
      "CUDA libraries:\n",
      "Finding cublas from Conda environment\n",
      "\tnamed  libcublas.so.10.2.1.243\n",
      "\ttrying to open library...\tok\n",
      "Finding cusparse from Conda environment\n",
      "\tnamed  libcusparse.so.10.3.0.243\n",
      "\ttrying to open library...\tok\n",
      "Finding cufft from Conda environment\n",
      "\tnamed  libcufft.so.10.1.1.243\n",
      "\ttrying to open library...\tok\n",
      "Finding curand from Conda environment\n",
      "\tnamed  libcurand.so.10.1.1.243\n",
      "\ttrying to open library...\tok\n",
      "Finding nvvm from Conda environment\n",
      "\tnamed  libnvvm.so.3.3.0\n",
      "\ttrying to open library...\tok\n",
      "Finding libdevice from Conda environment\n",
      "\tsearching for compute_20...\tok\n",
      "\tsearching for compute_30...\tok\n",
      "\tsearching for compute_35...\tok\n",
      "\tsearching for compute_50...\tok\n",
      "\n",
      "__ROC Information__\n",
      "ROC available                                 : False\n",
      "Error initialising ROC due to                 : No ROC toolchains found.\n",
      "No HSA Agents found, encountered exception when searching:\n",
      "Error at driver init: \n",
      "NUMBA_HSA_DRIVER /opt/rocm/lib/libhsa-runtime64.so is not a valid file path.  Note it must be a filepath of the .so/.dll/.dylib or the driver:\n",
      "\n",
      "__SVML Information__\n",
      "SVML state, config.USING_SVML                 : False\n",
      "SVML library found and loaded                 : False\n",
      "llvmlite using SVML patched LLVM              : True\n",
      "SVML operational                              : False\n",
      "\n",
      "__Threading Layer Information__\n",
      "TBB Threading layer available                 : True\n",
      "OpenMP Threading layer available              : True\n",
      "+--> Vendor:                                  : GNU\n",
      "Workqueue Threading layer available           : True\n",
      "\n",
      "__Numba Environment Variable Information__\n",
      "None set.\n",
      "\n",
      "__Conda Information__\n",
      "conda_build_version                           : not installed\n",
      "conda_env_version                             : 4.8.3\n",
      "platform                                      : linux-64\n",
      "python_version                                : 3.6.10.final.0\n",
      "root_writable                                 : False\n",
      "\n",
      "__Current Conda Env__\n",
      "_libgcc_mutex             0.1                 conda_forge    conda-forge\n",
      "_openmp_mutex             4.5                       0_gnu    conda-forge\n",
      "absl-py                   0.9.0                    pypi_0    pypi\n",
      "aiohttp                   3.6.2            py36h516909a_0    conda-forge\n",
      "appdirs                   1.4.3                      py_1    conda-forge\n",
      "arrow-cpp                 0.15.0           py36h090bef1_2    conda-forge\n",
      "astunparse                1.6.3                    pypi_0    pypi\n",
      "async-timeout             3.0.1                   py_1000    conda-forge\n",
      "attrs                     19.3.0                     py_0    conda-forge\n",
      "backcall                  0.2.0              pyh9f0ad1d_0    conda-forge\n",
      "blas                      1.0                         mkl  \n",
      "bleach                    3.1.5              pyh9f0ad1d_0    conda-forge\n",
      "bokeh                     1.4.0            py36h9f0ad1d_1    conda-forge\n",
      "boost                     1.70.0           py36h9de70de_1    conda-forge\n",
      "boost-cpp                 1.70.0               h8e57a91_2    conda-forge\n",
      "brotli                    1.0.7             he1b5a44_1002    conda-forge\n",
      "brotlipy                  0.7.0           py36h7b6447c_1000  \n",
      "bzip2                     1.0.8                h516909a_2    conda-forge\n",
      "c-ares                    1.15.0            h516909a_1001    conda-forge\n",
      "ca-certificates           2020.6.20            hecda079_0    conda-forge\n",
      "cachetools                4.1.1                    pypi_0    pypi\n",
      "cairo                     1.16.0            hcf35c78_1003    conda-forge\n",
      "certifi                   2020.6.20        py36h9f0ad1d_0    conda-forge\n",
      "cffi                      1.14.0           py36h2e261b9_0  \n",
      "cfitsio                   3.470                hb60a0a2_2    conda-forge\n",
      "chardet                   3.0.4                 py36_1003  \n",
      "click                     7.1.2              pyh9f0ad1d_0    conda-forge\n",
      "click-plugins             1.1.1                      py_0    conda-forge\n",
      "cligj                     0.5.0                      py_0    conda-forge\n",
      "cloudpickle               1.5.0                      py_0    conda-forge\n",
      "colorcet                  2.0.1                      py_0    conda-forge\n",
      "conda                     4.8.3            py36h9f0ad1d_1    conda-forge\n",
      "conda-package-handling    1.6.1            py36h7b6447c_0  \n",
      "contextvars               2.4                        py_0    conda-forge\n",
      "cryptography              2.9.2            py36h1ba5d50_0  \n",
      "cudatoolkit               10.1.243             h6bb024c_0    nvidia\n",
      "cudatoolkit-dev           10.1.243             h516909a_3    conda-forge\n",
      "cudf                      0.14.0                   py36_0    rapidsai\n",
      "cudnn                     7.6.0                cuda10.1_0    nvidia\n",
      "cugraph                   0.14.0                   py36_0    rapidsai\n",
      "cuml                      0.14.0          cuda10.1_py36_0    rapidsai\n",
      "cupy                      7.6.0            py36h5c369b2_0    conda-forge\n",
      "curl                      7.68.0               hf8cf82a_0    conda-forge\n",
      "cusignal                  0.14.0                   py36_0    rapidsai\n",
      "cuspatial                 0.14.0                   py36_0    rapidsai\n",
      "cuxfilter                 0.14.0                   py36_0    rapidsai\n",
      "cycler                    0.10.0                     py_2    conda-forge\n",
      "cytoolz                   0.10.1           py36h516909a_0    conda-forge\n",
      "dask                      2.20.0                     py_0    conda-forge\n",
      "dask-core                 2.20.0                     py_0    conda-forge\n",
      "dask-cuda                 0.14.1                   py36_0    rapidsai\n",
      "dask-cudf                 0.14.0                   py36_0    rapidsai\n",
      "dask-xgboost              0.2.0.dev28      cuda10.1py36_0    rapidsai\n",
      "datashader                0.10.0                     py_0    conda-forge\n",
      "datashape                 0.5.4                      py_1    conda-forge\n",
      "decorator                 4.4.2                      py_0    conda-forge\n",
      "defusedxml                0.6.0                      py_0    conda-forge\n",
      "dill                      0.3.2                    pypi_0    pypi\n",
      "distributed               2.20.0           py36h9f0ad1d_0    conda-forge\n",
      "dlpack                    0.3                  he1b5a44_1    conda-forge\n",
      "docopt                    0.6.2                    pypi_0    pypi\n",
      "double-conversion         3.1.5                he1b5a44_2    conda-forge\n",
      "entrypoints               0.3             py36h9f0ad1d_1001    conda-forge\n",
      "expat                     2.2.9                he1b5a44_2    conda-forge\n",
      "fastavro                  0.23.5           py36h8c4c3a4_0    conda-forge\n",
      "fastrlock                 0.5              py36h831f99a_0    conda-forge\n",
      "fiona                     1.8.13           py36h900e953_0    conda-forge\n",
      "fontconfig                2.13.1            h86ecdb6_1001    conda-forge\n",
      "freetype                  2.10.2               he06d7ca_0    conda-forge\n",
      "freexl                    1.0.5             h14c3975_1002    conda-forge\n",
      "fribidi                   1.0.10               h516909a_0    conda-forge\n",
      "fsspec                    0.7.4                      py_0    conda-forge\n",
      "future                    0.18.2                   pypi_0    pypi\n",
      "gast                      0.3.3                    pypi_0    pypi\n",
      "gdal                      3.0.2            py36hbb6b9fb_2    conda-forge\n",
      "geopandas                 0.8.0                      py_1    conda-forge\n",
      "geos                      3.7.2                he1b5a44_2    conda-forge\n",
      "geotiff                   1.5.1                hbd99317_7    conda-forge\n",
      "gettext                   0.19.8.1          hc5be6a0_1002    conda-forge\n",
      "gflags                    2.2.2             he1b5a44_1002    conda-forge\n",
      "giflib                    5.1.7                h516909a_1    conda-forge\n",
      "glib                      2.65.0               h6f030ca_0    conda-forge\n",
      "glog                      0.4.0                h49b9bf7_3    conda-forge\n",
      "google-auth               1.18.0                   pypi_0    pypi\n",
      "google-auth-oauthlib      0.4.1                    pypi_0    pypi\n",
      "google-pasta              0.2.0                    pypi_0    pypi\n",
      "googleapis-common-protos  1.52.0                   pypi_0    pypi\n",
      "graphite2                 1.3.13            he1b5a44_1001    conda-forge\n",
      "graphviz                  2.42.3               h0511662_0    conda-forge\n",
      "grpc-cpp                  1.23.0               h18db393_0    conda-forge\n",
      "grpcio                    1.30.0                   pypi_0    pypi\n",
      "gviz-api                  1.9.0                    pypi_0    pypi\n",
      "h5py                      2.10.0                   pypi_0    pypi\n",
      "harfbuzz                  2.4.0                h9f30f68_3    conda-forge\n",
      "hdf4                      4.2.13            hf30be14_1003    conda-forge\n",
      "hdf5                      1.10.5          nompi_h3c11f04_1104    conda-forge\n",
      "heapdict                  1.0.1                      py_0    conda-forge\n",
      "horovod                   0.19.5                   pypi_0    pypi\n",
      "icu                       64.2                 he1b5a44_1    conda-forge\n",
      "idna                      2.10                       py_0  \n",
      "idna_ssl                  1.1.0                 py36_1000    conda-forge\n",
      "imagecodecs-lite          2019.12.3        py36h785e9b2_1    conda-forge\n",
      "imageio                   2.9.0                      py_0    conda-forge\n",
      "immutables                0.14             py36h8c4c3a4_0    conda-forge\n",
      "importlib-metadata        1.7.0            py36h9f0ad1d_0    conda-forge\n",
      "importlib_metadata        1.7.0                         0    conda-forge\n",
      "intel-openmp              2020.1                      217  \n",
      "ipcluster-magics          0.1                      pypi_0    pypi\n",
      "ipykernel                 5.3.2            py36h95af2a2_0    conda-forge\n",
      "ipyparallel               6.3.0                    pypi_0    pypi\n",
      "ipython                   7.16.1           py36h95af2a2_0    conda-forge\n",
      "ipython_genutils          0.2.0                      py_1    conda-forge\n",
      "jedi                      0.17.1           py36h9f0ad1d_0    conda-forge\n",
      "jinja2                    2.11.2             pyh9f0ad1d_0    conda-forge\n",
      "joblib                    0.16.0                     py_0    conda-forge\n",
      "jpeg                      9d                   h516909a_0    conda-forge\n",
      "json-c                    0.13.1            hbfbb72e_1002    conda-forge\n",
      "jsonschema                3.2.0            py36h9f0ad1d_1    conda-forge\n",
      "jupyter-server-proxy      1.5.0                      py_0    conda-forge\n",
      "jupyter_client            6.1.5                      py_0    conda-forge\n",
      "jupyter_core              4.6.3            py36h9f0ad1d_1    conda-forge\n",
      "kealib                    1.4.13               hec59c27_0    conda-forge\n",
      "keras-preprocessing       1.1.2                    pypi_0    pypi\n",
      "kiwisolver                1.2.0            py36hdb11119_0    conda-forge\n",
      "krb5                      1.16.4               h2fd8d38_0    conda-forge\n",
      "lcms2                     2.11                 hbd6801e_0    conda-forge\n",
      "ld_impl_linux-64          2.33.1               h53a641e_7  \n",
      "libcudf                   0.14.0               cuda10.1_0    rapidsai\n",
      "libcugraph                0.14.0               cuda10.1_0    rapidsai\n",
      "libcuml                   0.14.0               cuda10.1_0    rapidsai\n",
      "libcumlprims              0.14.1               cuda10.1_0    nvidia\n",
      "libcurl                   7.68.0               hda55be3_0    conda-forge\n",
      "libcuspatial              0.14.0               cuda10.1_0    rapidsai\n",
      "libdap4                   3.20.4               hd3bb157_0    conda-forge\n",
      "libedit                   3.1.20181209         hc058e9b_0  \n",
      "libevent                  2.1.10               hcdb4288_1    conda-forge\n",
      "libffi                    3.2.1                hd88cf55_4  \n",
      "libgcc-ng                 9.2.0                h24d8f2e_2    conda-forge\n",
      "libgdal                   3.0.2                hc7cfd23_2    conda-forge\n",
      "libgfortran-ng            7.3.0                hdf63c60_0  \n",
      "libgomp                   9.2.0                h24d8f2e_2    conda-forge\n",
      "libhwloc                  2.1.0                h3c4fd83_0    conda-forge\n",
      "libiconv                  1.15              h516909a_1006    conda-forge\n",
      "libkml                    1.3.0             h4fcabce_1010    conda-forge\n",
      "libllvm8                  8.0.1                hc9558a2_0    conda-forge\n",
      "libnetcdf                 4.7.1           nompi_h94020b1_102    conda-forge\n",
      "libnvstrings              0.14.0               cuda10.1_0    rapidsai\n",
      "libpng                    1.6.37               hed695b0_1    conda-forge\n",
      "libpq                     11.5                 hd9ab2ff_2    conda-forge\n",
      "libprotobuf               3.8.0                h8b12597_0    conda-forge\n",
      "librmm                    0.14.0               cuda10.1_0    rapidsai\n",
      "libsodium                 1.0.17               h516909a_0    conda-forge\n",
      "libspatialindex           1.9.3                he1b5a44_3    conda-forge\n",
      "libspatialite             4.3.0a            h4f6d029_1032    conda-forge\n",
      "libssh2                   1.9.0                hab1572f_2    conda-forge\n",
      "libstdcxx-ng              9.1.0                hdf63c60_0  \n",
      "libtiff                   4.1.0                hfc65ed5_0    conda-forge\n",
      "libtool                   2.4.6             h14c3975_1002    conda-forge\n",
      "libuuid                   2.32.1            h14c3975_1000    conda-forge\n",
      "libuv                     1.34.0               h516909a_0    conda-forge\n",
      "libwebp                   1.0.2                hf4e8a37_4    conda-forge\n",
      "libxcb                    1.13              h14c3975_1002    conda-forge\n",
      "libxgboost                1.1.0dev.rapidsai0.14      cuda10.1_0    rapidsai\n",
      "libxml2                   2.9.10               hee79883_0    conda-forge\n",
      "line-profiler             3.0.2                    pypi_0    pypi\n",
      "llvmlite                  0.32.1           py36hfa65bc7_0    conda-forge\n",
      "locket                    0.2.0                      py_2    conda-forge\n",
      "lz4-c                     1.8.3             he1b5a44_1001    conda-forge\n",
      "markdown                  3.2.2                      py_0    conda-forge\n",
      "markupsafe                1.1.1            py36h8c4c3a4_1    conda-forge\n",
      "matplotlib-base           3.2.2            py36hb8e4980_0    conda-forge\n",
      "memory-profiler           0.57.0                   pypi_0    pypi\n",
      "mistune                   0.8.4           py36h8c4c3a4_1001    conda-forge\n",
      "mkl                       2020.1                      217  \n",
      "mkl-service               2.3.0            py36he904b0f_0  \n",
      "mkl_fft                   1.1.0            py36h23d657b_0  \n",
      "mkl_random                1.1.1            py36h0573a6f_0  \n",
      "more-itertools            8.4.0                    pypi_0    pypi\n",
      "mpi4py                    3.0.3                    pypi_0    pypi\n",
      "msgpack-python            1.0.0            py36hdb11119_1    conda-forge\n",
      "multidict                 4.7.5            py36h8c4c3a4_1    conda-forge\n",
      "multipledispatch          0.6.0                      py_0    conda-forge\n",
      "munch                     2.5.0                      py_0    conda-forge\n",
      "nbconvert                 5.6.1            py36h9f0ad1d_1    conda-forge\n",
      "nbformat                  5.0.7                      py_0    conda-forge\n",
      "nccl                      2.5.7.1              h51cf6c1_0    conda-forge\n",
      "ncurses                   6.1                  he6710b0_1  \n",
      "networkx                  2.4                        py_1    conda-forge\n",
      "nodejs                    13.13.0              hf5d1a2b_0    conda-forge\n",
      "notebook                  6.0.3            py36h9f0ad1d_1    conda-forge\n",
      "numba                     0.49.1           py36h0573a6f_0  \n",
      "numpy                     1.18.5           py36ha1c710e_0  \n",
      "numpy-base                1.18.5           py36hde5b4d6_0  \n",
      "nvstrings                 0.14.0                   py36_0    rapidsai\n",
      "oauthlib                  3.1.0                    pypi_0    pypi\n",
      "olefile                   0.46                       py_0    conda-forge\n",
      "openjpeg                  2.3.1                h981e76c_3    conda-forge\n",
      "openssl                   1.1.1g               h516909a_0    conda-forge\n",
      "opt-einsum                3.2.1                    pypi_0    pypi\n",
      "packaging                 20.4               pyh9f0ad1d_0    conda-forge\n",
      "pandas                    0.25.3           py36hb3f55d8_0    conda-forge\n",
      "pandoc                    2.10                          0    conda-forge\n",
      "pandocfilters             1.4.2                      py_1    conda-forge\n",
      "panel                     0.6.4                         0    conda-forge\n",
      "pango                     1.42.4               h7062337_4    conda-forge\n",
      "param                     1.9.3                      py_0    conda-forge\n",
      "parquet-cpp               1.5.1                         2    conda-forge\n",
      "parso                     0.7.0              pyh9f0ad1d_0    conda-forge\n",
      "partd                     1.1.0                      py_0    conda-forge\n",
      "pcre                      8.44                 he1b5a44_0    conda-forge\n",
      "pexpect                   4.8.0            py36h9f0ad1d_1    conda-forge\n",
      "pickleshare               0.7.5           py36h9f0ad1d_1001    conda-forge\n",
      "pillow                    7.2.0            py36h8328e55_1    conda-forge\n",
      "pip                       20.1.1                   py36_1  \n",
      "pixman                    0.38.0            h516909a_1003    conda-forge\n",
      "pluggy                    0.13.1                   pypi_0    pypi\n",
      "poppler                   0.67.0               h14e79db_8    conda-forge\n",
      "poppler-data              0.4.9                         1    conda-forge\n",
      "postgresql                11.5                 hc63931a_2    conda-forge\n",
      "proj                      6.2.1                hc80f0dc_0    conda-forge\n",
      "prometheus_client         0.8.0              pyh9f0ad1d_0    conda-forge\n",
      "promise                   2.3                      pypi_0    pypi\n",
      "prompt-toolkit            3.0.5                      py_1    conda-forge\n",
      "protobuf                  3.12.2                   pypi_0    pypi\n",
      "psutil                    5.7.0            py36h8c4c3a4_1    conda-forge\n",
      "pthread-stubs             0.4               h14c3975_1001    conda-forge\n",
      "ptyprocess                0.6.0                   py_1001    conda-forge\n",
      "py                        1.9.0                    pypi_0    pypi\n",
      "py-xgboost                1.1.0dev.rapidsai0.14  cuda10.1py36_0    rapidsai\n",
      "pyarrow                   0.15.0           py36h8b68381_1    conda-forge\n",
      "pyasn1                    0.4.8                    pypi_0    pypi\n",
      "pyasn1-modules            0.2.8                    pypi_0    pypi\n",
      "pycodestyle               2.6.0                    pypi_0    pypi\n",
      "pycosat                   0.6.3            py36h7b6447c_0  \n",
      "pycparser                 2.20                       py_0  \n",
      "pyct                      0.4.6                      py_0    conda-forge\n",
      "pyct-core                 0.4.6                      py_0    conda-forge\n",
      "pyee                      7.0.2              pyh9f0ad1d_0    conda-forge\n",
      "pygments                  2.6.1                      py_0    conda-forge\n",
      "pynvml                    8.0.4                      py_1    conda-forge\n",
      "pyopenssl                 19.1.0                   py36_0  \n",
      "pyparsing                 2.4.7              pyh9f0ad1d_0    conda-forge\n",
      "pyppeteer                 0.0.25                     py_1    conda-forge\n",
      "pyproj                    2.4.2.post1      py36h12732c1_0    conda-forge\n",
      "pyqt5                     5.15.0                   pypi_0    pypi\n",
      "pyqt5-sip                 12.8.0                   pypi_0    pypi\n",
      "pyrsistent                0.16.0           py36h8c4c3a4_0    conda-forge\n",
      "pysocks                   1.7.1                    py36_0  \n",
      "pytest                    5.4.3                    pypi_0    pypi\n",
      "python                    3.6.10          h8356626_1010_cpython    conda-forge\n",
      "python-dateutil           2.8.1                      py_0    conda-forge\n",
      "python-graphviz           0.14               pyh9f0ad1d_0    conda-forge\n",
      "python_abi                3.6                     1_cp36m    conda-forge\n",
      "pytz                      2020.1             pyh9f0ad1d_0    conda-forge\n",
      "pyviz_comms               0.7.6              pyh9f0ad1d_0    conda-forge\n",
      "pywavelets                1.1.1            py36h785e9b2_1    conda-forge\n",
      "pyyaml                    5.1.2            py36h516909a_0    conda-forge\n",
      "pyzmq                     19.0.1           py36h9947dbf_0    conda-forge\n",
      "rapids                    0.14.1          cuda10.1_py36_0    rapidsai\n",
      "rapids-xgboost            0.14.1          cuda10.1_py36_0    rapidsai\n",
      "re2                       2020.04.01           he1b5a44_0    conda-forge\n",
      "readline                  8.0                  hf8c457e_0    conda-forge\n",
      "requests                  2.24.0                     py_0  \n",
      "requests-oauthlib         1.3.0                    pypi_0    pypi\n",
      "rmm                       0.14.0                   py36_0    rapidsai\n",
      "rsa                       4.6                      pypi_0    pypi\n",
      "rtree                     0.9.4            py36he053a7a_1    conda-forge\n",
      "ruamel_yaml               0.15.87          py36h7b6447c_0  \n",
      "scikit-image              0.17.2           py36h830a2c2_1    conda-forge\n",
      "scikit-learn              0.23.1           py36h423224d_0  \n",
      "scipy                     1.4.1                    pypi_0    pypi\n",
      "send2trash                1.5.0                      py_0    conda-forge\n",
      "setuptools                47.3.1                   py36_0  \n",
      "shapely                   1.6.4           py36hec07ddf_1006    conda-forge\n",
      "simpervisor               0.3                        py_1    conda-forge\n",
      "six                       1.15.0                     py_0  \n",
      "snappy                    1.1.8                he1b5a44_3    conda-forge\n",
      "sortedcontainers          2.2.2              pyh9f0ad1d_0    conda-forge\n",
      "spdlog                    1.6.1                hc9558a2_0    conda-forge\n",
      "sqlite                    3.31.1               h7b6447c_0  \n",
      "tbb                       2018.0.5             h2d50403_0    conda-forge\n",
      "tblib                     1.6.0                      py_0    conda-forge\n",
      "tensorboard               2.2.2                    pypi_0    pypi\n",
      "tensorboard-plugin-profile 2.2.0                    pypi_0    pypi\n",
      "tensorboard-plugin-wit    1.7.0                    pypi_0    pypi\n",
      "tensorflow                2.2.0                    pypi_0    pypi\n",
      "tensorflow-addons         0.10.0                   pypi_0    pypi\n",
      "tensorflow-datasets       3.1.0                    pypi_0    pypi\n",
      "tensorflow-estimator      2.2.0                    pypi_0    pypi\n",
      "tensorflow-metadata       0.22.2                   pypi_0    pypi\n",
      "termcolor                 1.1.0                    pypi_0    pypi\n",
      "terminado                 0.8.3            py36h9f0ad1d_1    conda-forge\n",
      "testpath                  0.4.4                      py_0    conda-forge\n",
      "threadpoolctl             2.1.0              pyh5ca1d4c_0    conda-forge\n",
      "thrift-cpp                0.12.0            hf3afdfd_1004    conda-forge\n",
      "tifffile                  2020.6.3                   py_0    conda-forge\n",
      "tiledb                    1.6.2                h7d710e0_2    conda-forge\n",
      "tk                        8.6.10               hed695b0_0    conda-forge\n",
      "toolz                     0.10.0                     py_0    conda-forge\n",
      "tornado                   6.0.4            py36h8c4c3a4_1    conda-forge\n",
      "tqdm                      4.36.1                     py_0  \n",
      "traitlets                 4.3.3            py36h9f0ad1d_1    conda-forge\n",
      "typeguard                 2.9.1                    pypi_0    pypi\n",
      "typing_extensions         3.7.4.2                    py_0    conda-forge\n",
      "tzcode                    2020a                h516909a_0    conda-forge\n",
      "ucx                       1.8.0+gf6ec8d4      cuda10.1_20    rapidsai\n",
      "ucx-py                    0.14.0+gf6ec8d4          py36_0    rapidsai\n",
      "uriparser                 0.9.3                he1b5a44_1    conda-forge\n",
      "urllib3                   1.25.9                     py_0  \n",
      "wcwidth                   0.2.5              pyh9f0ad1d_0    conda-forge\n",
      "webencodings              0.5.1                      py_1    conda-forge\n",
      "websockets                8.1              py36h8c4c3a4_1    conda-forge\n",
      "werkzeug                  1.0.1                    pypi_0    pypi\n",
      "wheel                     0.34.2                   py36_0  \n",
      "wrapt                     1.12.1                   pypi_0    pypi\n",
      "xarray                    0.15.1                     py_0    conda-forge\n",
      "xerces-c                  3.2.2             h8412b87_1004    conda-forge\n",
      "xgboost                   1.1.0dev.rapidsai0.14  cuda10.1py36_0    rapidsai\n",
      "xorg-kbproto              1.0.7             h14c3975_1002    conda-forge\n",
      "xorg-libice               1.0.10               h516909a_0    conda-forge\n",
      "xorg-libsm                1.2.3             h84519dc_1000    conda-forge\n",
      "xorg-libx11               1.6.9                h516909a_0    conda-forge\n",
      "xorg-libxau               1.0.9                h14c3975_0    conda-forge\n",
      "xorg-libxdmcp             1.1.3                h516909a_0    conda-forge\n",
      "xorg-libxext              1.3.4                h516909a_0    conda-forge\n",
      "xorg-libxpm               3.5.13               h516909a_0    conda-forge\n",
      "xorg-libxrender           0.9.10            h516909a_1002    conda-forge\n",
      "xorg-libxt                1.1.5             h516909a_1003    conda-forge\n",
      "xorg-renderproto          0.11.1            h14c3975_1002    conda-forge\n",
      "xorg-xextproto            7.3.0             h14c3975_1002    conda-forge\n",
      "xorg-xproto               7.0.31            h14c3975_1007    conda-forge\n",
      "xz                        5.2.4                h14c3975_4  \n",
      "yaml                      0.1.7                had09818_2  \n",
      "yarl                      1.4.2            py36h516909a_0    conda-forge\n",
      "zeromq                    4.3.2                he1b5a44_2    conda-forge\n",
      "zict                      2.0.0                      py_0    conda-forge\n",
      "zipp                      3.1.0                      py_0    conda-forge\n",
      "zlib                      1.2.11               h7b6447c_3  \n",
      "zstd                      1.4.3                h3b9ef0a_0    conda-forge\n",
      "--------------------------------------------------------------------------------\n",
      "If requested, please copy and paste the information between\n",
      "the dashed (----) lines, or from a given specific section as\n",
      "appropriate.\n",
      "\n",
      "=============================================================\n",
      "IMPORTANT: Please ensure that you are happy with sharing the\n",
      "contents of the information present, any information that you\n",
      "wish to keep private you should remove before sharing.\n",
      "=============================================================\n",
      "\n"
     ]
    }
   ],
   "source": [
    "!numba -s"
   ]
  },
  {
   "cell_type": "code",
   "execution_count": null,
   "metadata": {},
   "outputs": [],
   "source": []
  }
 ],
 "metadata": {
  "kernelspec": {
   "display_name": "miniconda-ss2020",
   "language": "python",
   "name": "miniconda-ss2020"
  },
  "language_info": {
   "codemirror_mode": {
    "name": "ipython",
    "version": 3
   },
   "file_extension": ".py",
   "mimetype": "text/x-python",
   "name": "python",
   "nbconvert_exporter": "python",
   "pygments_lexer": "ipython3",
   "version": "3.6.10"
  }
 },
 "nbformat": 4,
 "nbformat_minor": 4
}
