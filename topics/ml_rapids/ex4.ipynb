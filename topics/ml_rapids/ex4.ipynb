{
 "cells": [
  {
   "cell_type": "markdown",
   "metadata": {},
   "source": [
    "## Exercise 4. XGBoost \n",
    " \n",
    "1. Sketch the piece-wise constant function represented by the following trees on the domain $[-1,1]$\n",
    "```\n",
    "# Tree 1\n",
    "     (0.15)\n",
    "```\n",
    "```\n",
    "# Tree 2\n",
    "     (x < 0)\n",
    "     /     \\\n",
    "  (0.1)   (0.2)\n",
    "```\n",
    "```\n",
    "# Tree 3\n",
    "     (x < 0)\n",
    "     /     \\\n",
    "  (0.1)   (x < 0.5)\n",
    "          /       \\\n",
    "       (0.2)     (0.1) \n",
    "```"
   ]
  }
 ],
 "metadata": {
  "kernelspec": {
   "display_name": "Python 3",
   "language": "python",
   "name": "python3"
  },
  "language_info": {
   "codemirror_mode": {
    "name": "ipython",
    "version": 3
   },
   "file_extension": ".py",
   "mimetype": "text/x-python",
   "name": "python",
   "nbconvert_exporter": "python",
   "pygments_lexer": "ipython3",
   "version": "3.6.5"
  }
 },
 "nbformat": 4,
 "nbformat_minor": 4
}
