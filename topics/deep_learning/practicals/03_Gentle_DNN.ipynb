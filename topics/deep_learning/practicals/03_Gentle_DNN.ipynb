{
 "cells": [
  {
   "cell_type": "markdown",
   "metadata": {
    "colab_type": "text",
    "id": "LjJ7XrjSK4Kp"
   },
   "source": [
    "# A very basic example -- approximate functions with Deep Neural Networks and Tensorflow and Keras\n",
    "\n",
    "* This notebook contains two gentle examples how to perform supervised (regression and classification) machine learning tasks with fully connected deep neural networks.\n",
    "\n",
    "    * we train a deep NN to learn an analytical, 2-dimensional function and perform regression. \n",
    "    * we look at a standart data set ([Zalando fashion MNIST dataset](https://www.kaggle.com/zalando-research/fashionmnist)) to perform classification. This data-set is already avaialble within the Keras API.\n",
    "    \n",
    "* From the technical side \n",
    "    * we look at different, pre-implemented cost functions (e.g., MSE, MAE, Cross-entropy loss).\n",
    "    * we look at initialization of the network weights.\n",
    "    * early stopping.\n",
    "    * we look at dropout.\n",
    "    * we look at batch normalization.\n",
    "\n",
    "* A comprehensive set of examples can be found [here](https://www.tensorflow.org/guide/keras/sequential_model) and here:\n",
    "    - [Guide to the Functional API](https://www.tensorflow.org/guide/keras/functional/).\n",
    "    - [Guide to making new Layers & Models via subclassing](https://www.tensorflow.org/guide/keras/custom_layers_and_models/)."
   ]
  },
  {
   "cell_type": "markdown",
   "metadata": {
    "colab_type": "text",
    "id": "Ygz2642R7AEV"
   },
   "source": [
    "### The basic setup "
   ]
  },
  {
   "cell_type": "code",
   "execution_count": 1,
   "metadata": {
    "colab_type": "code",
    "id": "kPfh5AQ8fFzQ"
   },
   "outputs": [
    {
     "name": "stdout",
     "output_type": "stream",
     "text": [
      "2.2.0\n"
     ]
    }
   ],
   "source": [
    "import tensorflow as tf\n",
    "from tensorflow import keras\n",
    "from tensorflow.keras import layers\n",
    "print(tf.__version__)\n",
    "\n",
    "\n",
    "import numpy as np\n",
    "import math\n",
    "from random import uniform\n",
    "import matplotlib.pyplot as plt\n"
   ]
  },
  {
   "cell_type": "markdown",
   "metadata": {},
   "source": [
    "## 1. A simple regression example\n",
    "\n",
    "As a first example, we want to approximate 2-d analytical functions on a d-dimensional unit cube [0,1]^d."
   ]
  },
  {
   "cell_type": "markdown",
   "metadata": {},
   "source": [
    "### Generate training data"
   ]
  },
  {
   "cell_type": "code",
   "execution_count": 2,
   "metadata": {},
   "outputs": [],
   "source": [
    "dim_x = 2            #input dimension of the analytical function\n",
    "dim_y = 1            #output dimension of the analytical function\n",
    "no_samples = 10000  #number of observations\n",
    "no_test  = 1000      #test data\n",
    "filename = 'my_fun'  #where to store data\n",
    "\n",
    "#Generate training data\n",
    "#x coord\n",
    "aPnts = np.empty([no_samples, dim_x])  \n",
    "for iI in range(no_samples):\n",
    "    for iJ in range(dim_x):\n",
    "        aPnts[iI][iJ] = uniform(-1.0, 1.0)\n",
    "data = aPnts #np.random.random((no_samples, dim_x))\n",
    "\n",
    "#y value\n",
    "aTres = np.empty([no_samples,])\n",
    "for iI in range(no_samples):\n",
    "    aTres[iI] = math.cos(0.5 * math.pi * aPnts[iI][0]) * math.cos(0.5 * math.pi * aPnts[iI][1])\n",
    "labels = aTres #np.random.random((no_samples,dim_y ))\n",
    "\n",
    "\n",
    "#Test data \n",
    "aPnts2 = np.empty([no_test, dim_x])  \n",
    "for iI in range(no_test):\n",
    "    for iJ in range(dim_x):\n",
    "        aPnts2[iI][iJ] = uniform(-1.0, 1.0)\n",
    "data2 = aPnts2 #np.random.random((no_samples, dim_x))\n",
    "\n",
    "## y value\n",
    "aTres2 = np.empty([no_test,])\n",
    "for iI in range(no_test):\n",
    "    aTres2[iI] = math.cos(0.5 * math.pi * aPnts2[iI][0]) * math.cos(0.5 * math.pi * aPnts2[iI][1])\n",
    "labels2 = aTres2 #np.random.random((no_samples,dim_y ))\n"
   ]
  },
  {
   "cell_type": "markdown",
   "metadata": {
    "colab_type": "text",
    "id": "H86UozfTDwPp"
   },
   "source": [
    "### Fully-connected deep neural network -- creating a `Sequential` model\n",
    "\n",
    "Tensorflow with the Keras API defines a `Sequential` model to be the appropriate choice for **a plain stack of layers**, where each layer has **exactly one input tensor and one output tensor**.\n",
    "\n",
    "Schematically, the following `Sequential` model:"
   ]
  },
  {
   "cell_type": "code",
   "execution_count": 3,
   "metadata": {},
   "outputs": [],
   "source": [
    "#Define Sequential model with 3 layers\n",
    "model = tf.keras.Sequential([\n",
    "#Adds a densely-connected layer with 64 units to the model:\n",
    "    layers.Dense(64, activation='relu', input_shape=(dim_x,), name='layer1'),\n",
    "    # Add another:\n",
    "    layers.Dense(64, activation='relu', name='layer2'),\n",
    "    # Add an output layer with dim_y output units:\n",
    "    layers.Dense(dim_y)],name='my_first_model')"
   ]
  },
  {
   "cell_type": "markdown",
   "metadata": {},
   "source": [
    "* Also note that the Sequential constructor accepts a `name` argument, just like any layer or model in Keras. This is useful to annotate TensorBoard graphs (later today) with semantically meaningful names.\n",
    "\n",
    "\n",
    "* Once a model is \"built\", you can call its `summary()` method to display its contents:"
   ]
  },
  {
   "cell_type": "code",
   "execution_count": 4,
   "metadata": {},
   "outputs": [
    {
     "name": "stdout",
     "output_type": "stream",
     "text": [
      "Model: \"my_first_model\"\n",
      "_________________________________________________________________\n",
      "Layer (type)                 Output Shape              Param #   \n",
      "=================================================================\n",
      "layer1 (Dense)               (None, 64)                192       \n",
      "_________________________________________________________________\n",
      "layer2 (Dense)               (None, 64)                4160      \n",
      "_________________________________________________________________\n",
      "dense (Dense)                (None, 1)                 65        \n",
      "=================================================================\n",
      "Total params: 4,417\n",
      "Trainable params: 4,417\n",
      "Non-trainable params: 0\n",
      "_________________________________________________________________\n"
     ]
    }
   ],
   "source": [
    "model.summary()"
   ]
  },
  {
   "cell_type": "markdown",
   "metadata": {},
   "source": [
    "Its layers are accessible via the `layers` attribute:"
   ]
  },
  {
   "cell_type": "code",
   "execution_count": 5,
   "metadata": {},
   "outputs": [
    {
     "data": {
      "text/plain": [
       "[<tensorflow.python.keras.layers.core.Dense at 0x7fd3b0c7b668>,\n",
       " <tensorflow.python.keras.layers.core.Dense at 0x7fd3b0c84f60>,\n",
       " <tensorflow.python.keras.layers.core.Dense at 0x7fd3b0c271d0>]"
      ]
     },
     "execution_count": 5,
     "metadata": {},
     "output_type": "execute_result"
    }
   ],
   "source": [
    "model.layers"
   ]
  },
  {
   "cell_type": "markdown",
   "metadata": {},
   "source": [
    "#### What to do once you have a model\n",
    "\n",
    "Once your model architecture is ready, you will want to:\n",
    "\n",
    "- Train your model, evaluate it, and run inference. See [guide to training & evaluation with the built-in loops](\n",
    "https://www.tensorflow.org/guide/keras/train_and_evaluate/).\n",
    "- Save your model to disk and restore it. See [guide to serialization & saving](https://www.tensorflow.org/guide/keras/save_and_serialize/).\n",
    "- Speed up model training by leveraging multiple GPUs. See [guide to multi-GPU and distributed training](distributed_training)."
   ]
  },
  {
   "cell_type": "markdown",
   "metadata": {},
   "source": [
    "#### Compile the model\n",
    "Before the model is ready for training, it needs a few more settings. These are added during the model's compile step:\n",
    "\n",
    "* Loss function —This measures how accurate the model is during training. You want to minimize this function to \"steer\" the model in the right direction.\n",
    "* Optimizer —This is how the model is updated based on the data it sees and its loss function.\n",
    "* Metrics —Used to monitor the training and testing steps. The following example uses accuracy, the fraction of the images that are correctly classified."
   ]
  },
  {
   "cell_type": "code",
   "execution_count": 6,
   "metadata": {
    "colab_type": "code",
    "id": "ajdypoWBxCFi"
   },
   "outputs": [
    {
     "name": "stdout",
     "output_type": "stream",
     "text": [
      "Epoch 1/3\n",
      "313/313 [==============================] - 0s 1ms/step - loss: 0.0064 - mae: 0.0309\n",
      "Epoch 2/3\n",
      "313/313 [==============================] - 0s 1ms/step - loss: 1.2976e-04 - mae: 0.0087\n",
      "Epoch 3/3\n",
      "313/313 [==============================] - 0s 1ms/step - loss: 3.7364e-04 - mae: 0.0133\n"
     ]
    },
    {
     "data": {
      "text/plain": [
       "<tensorflow.python.keras.callbacks.History at 0x7fd3b03d7748>"
      ]
     },
     "execution_count": 6,
     "metadata": {},
     "output_type": "execute_result"
    }
   ],
   "source": [
    "#Configure a model for mean-squared error regression.\n",
    "model.compile(optimizer=tf.keras.optimizers.Adam(0.01),\n",
    "              loss='mse',       # mean squared error\n",
    "              metrics=['mae'])  # mean absolute error\n",
    "\n",
    "\n",
    "\n",
    "#fit model\n",
    "model.fit(data, labels, epochs=3, batch_size=32)\n",
    "\n",
    "#At this point, you can't do this:\n",
    "# model.weights\n",
    "# print(\"Number of weights after calling the model:\", len(model.weights))  "
   ]
  },
  {
   "cell_type": "markdown",
   "metadata": {
    "colab_type": "text",
    "id": "qVNQRoWqJ3PY"
   },
   "source": [
    "* You can also create a Sequential model incrementally via the `add()` method.\n",
    "\n",
    "* Also note that the Sequential constructor accepts a `name` argument, just like any layer or model in Keras. This is useful to annotate TensorBoard graphs (later today) with semantically meaningful names."
   ]
  },
  {
   "cell_type": "markdown",
   "metadata": {},
   "source": [
    "#### Test Accuracy"
   ]
  },
  {
   "cell_type": "code",
   "execution_count": 7,
   "metadata": {},
   "outputs": [
    {
     "name": "stdout",
     "output_type": "stream",
     "text": [
      "32/32 - 0s - loss: 8.9703e-05 - mae: 0.0076\n",
      "Test accuracy: 0.007630030158907175\n"
     ]
    }
   ],
   "source": [
    "test_loss, test_acc = model.evaluate(data2,  labels2, verbose=2)\n",
    "print('Test accuracy:', test_acc)"
   ]
  },
  {
   "cell_type": "markdown",
   "metadata": {},
   "source": [
    "#### Predict individual values"
   ]
  },
  {
   "cell_type": "code",
   "execution_count": 8,
   "metadata": {
    "colab_type": "code",
    "id": "2TD4yRflSEv6"
   },
   "outputs": [
    {
     "name": "stdout",
     "output_type": "stream",
     "text": [
      "point to test -0.09847954960935135    0.5791124212174399\n",
      "NN prediction:  [0.59973335] , Analytical solution 0.6066763104649007 , Difference [0.00694299]\n"
     ]
    }
   ],
   "source": [
    "predictions = model.predict(data2)\n",
    "x = data2[0]\n",
    "\n",
    "x1 = x[0,]\n",
    "y1 = x[1,]\n",
    "print('point to test', x[0,], '  ',x[1,])\n",
    "#x.shape\n",
    "#print(x.shape, data2.shape)\n",
    "\n",
    "# Analytical solution:\n",
    "res = math.cos(0.5 * math.pi * x1) * math.cos(0.5 * math.pi * y1)\n",
    "print('NN prediction: ' , predictions[0], ', Analytical solution', res, ', Difference' ,abs(predictions[0]-res))"
   ]
  },
  {
   "cell_type": "markdown",
   "metadata": {},
   "source": [
    "#### Save weights to a TensorFlow Checkpoint file -> Restart etc."
   ]
  },
  {
   "cell_type": "code",
   "execution_count": 9,
   "metadata": {},
   "outputs": [
    {
     "name": "stdout",
     "output_type": "stream",
     "text": [
      "store the model\n",
      "reload the model\n",
      "NN prediction:  [0.59973335] , Analytical solution 0.6066763104649007 , Difference [0.00694299]\n"
     ]
    }
   ],
   "source": [
    "# Save weights to a TensorFlow Checkpoint file\n",
    "print(\"store the model\")\n",
    "model.save_weights(filename)\n",
    "\n",
    "# this requires a model with the same architecture.\n",
    "print(\"reload the model\")\n",
    "model.load_weights(filename)\n",
    "\n",
    "predictions = model.predict(data2)\n",
    "res = math.cos(0.5 * math.pi * x1) * math.cos(0.5 * math.pi * y1)\n",
    "print('NN prediction: ' , predictions[0], ', Analytical solution', res, ', Difference' ,abs(predictions[0]-res))"
   ]
  },
  {
   "cell_type": "markdown",
   "metadata": {},
   "source": [
    "#### Network weight initialization and early stopping\n",
    "\n",
    "[Different pre-implemented initializers](https://www.tensorflow.org/api_docs/python/tf/keras/initializers)\n",
    "\n",
    "[Early stopping](https://www.tensorflow.org/api_docs/python/tf/keras/callbacks/EarlyStopping)"
   ]
  },
  {
   "cell_type": "code",
   "execution_count": 10,
   "metadata": {},
   "outputs": [],
   "source": [
    "#Define Sequential model with 3 layers\n",
    "\n",
    "#initialize weigths\n",
    "initializer = tf.keras.initializers.RandomNormal(mean=0., stddev=1.)\n",
    "\n",
    "#create the model\n",
    "model2 = tf.keras.Sequential([\n",
    "#Adds a densely-connected layer with 64 units to the model:\n",
    "    layers.Dense(64, activation='relu', input_shape=(dim_x,),kernel_initializer=initializer, name='layer1'),\n",
    "    # Add another:\n",
    "    layers.Dense(64, activation='relu', kernel_initializer=initializer, name='layer2'),\n",
    "    # Add an output layer with dim_y output units:\n",
    "    layers.Dense(dim_y)],name='my_first_model')"
   ]
  },
  {
   "cell_type": "markdown",
   "metadata": {},
   "source": [
    "* Assuming the goal of a training is to minimize the loss. With this, the metric to be monitored would be 'loss', and mode would be 'min'. A model.fit() training loop will check at end of every epoch whether the loss is no longer decreasing, considering the min_delta and patience if applicable. Once it's found no longer decreasing, model.stop_training is marked True and the training terminates.\n",
    "\n",
    "* The quantity to be monitored needs to be available in logs dict. To make it so, pass the loss or metrics at model.compile()."
   ]
  },
  {
   "cell_type": "code",
   "execution_count": 11,
   "metadata": {},
   "outputs": [
    {
     "data": {
      "text/plain": [
       "3"
      ]
     },
     "execution_count": 11,
     "metadata": {},
     "output_type": "execute_result"
    }
   ],
   "source": [
    "# This callback will stop the training when there is no improvement in\n",
    "\n",
    "# the validation loss for three consecutive epochs.\n",
    "callback = tf.keras.callbacks.EarlyStopping(monitor='loss', patience=3)\n",
    "\n",
    "\n",
    "#Configure a model for mean-squared error regression.\n",
    "model2.compile(optimizer=tf.keras.optimizers.Adam(0.01),\n",
    "              loss='mse',       # mean squared error\n",
    "              metrics=['mae'])  # mean absolute error\n",
    "#fit model\n",
    "history = model2.fit(data, labels, epochs=3, batch_size=32,callbacks=[callback], verbose=0)\n",
    "\n",
    "#early stopping\n",
    "len(history.history['loss'])  # Only 4 epochs are run."
   ]
  },
  {
   "cell_type": "markdown",
   "metadata": {},
   "source": [
    "* This callback will stop the training when there is no improvement in the quantity to be monitored\n",
    "\n",
    "* the validation loss for delta -- which is the inimum change in the monitored quantity to qualify as an improvement, i.e. an absolute change of less than min_delta, will count as no improvement.\n"
   ]
  },
  {
   "cell_type": "code",
   "execution_count": 12,
   "metadata": {},
   "outputs": [
    {
     "name": "stdout",
     "output_type": "stream",
     "text": [
      "Epoch 1/3\n",
      "313/313 [==============================] - 0s 1ms/step - loss: 0.0577 - mae: 0.0977\n",
      "Epoch 2/3\n",
      "313/313 [==============================] - 0s 1ms/step - loss: 0.0027 - mae: 0.0389\n",
      "Epoch 3/3\n",
      "313/313 [==============================] - 0s 1ms/step - loss: 0.0116 - mae: 0.0710\n"
     ]
    },
    {
     "data": {
      "text/plain": [
       "3"
      ]
     },
     "execution_count": 12,
     "metadata": {},
     "output_type": "execute_result"
    }
   ],
   "source": [
    "callback = tf.keras.callbacks.EarlyStopping(monitor='loss', min_delta=0.01)\n",
    "\n",
    "\n",
    "#Configure a model for mean-squared error regression.\n",
    "model2.compile(optimizer=tf.keras.optimizers.Adam(0.01),\n",
    "              loss='mse',       # mean squared error\n",
    "              metrics=['mae'])  # mean absolute error\n",
    "#fit model\n",
    "history = model2.fit(data, labels, epochs=3, batch_size=32,callbacks=[callback], verbose=1)\n",
    "\n",
    "len(history.history['loss'])  # Only 2 epochs are run."
   ]
  },
  {
   "cell_type": "markdown",
   "metadata": {},
   "source": [
    "#### Dropout layers\n",
    "* [Dropout](https://www.tensorflow.org/api_docs/python/tf/keras/layers/Dropout)\n",
    "\n",
    "Dropout can be applied to input neurons called the visible layer.\n",
    "\n",
    "In the example below we add a new Dropout layer between the input (or visible layer) and the first hidden layer. The dropout rate is set to 20%."
   ]
  },
  {
   "cell_type": "code",
   "execution_count": 13,
   "metadata": {},
   "outputs": [
    {
     "name": "stdout",
     "output_type": "stream",
     "text": [
      "Epoch 1/3\n",
      "313/313 [==============================] - 0s 1ms/step - loss: 0.0113 - mae: 0.0671\n",
      "Epoch 2/3\n",
      "313/313 [==============================] - 0s 1ms/step - loss: 0.0030 - mae: 0.0430\n",
      "Epoch 3/3\n",
      "313/313 [==============================] - 0s 1ms/step - loss: 0.0027 - mae: 0.0403\n"
     ]
    },
    {
     "data": {
      "text/plain": [
       "<tensorflow.python.keras.callbacks.History at 0x7fd3a823e668>"
      ]
     },
     "execution_count": 13,
     "metadata": {},
     "output_type": "execute_result"
    }
   ],
   "source": [
    "#Define Sequential model with 3 layers\n",
    "model3 = tf.keras.Sequential([\n",
    "#Adds a densely-connected layer with 64 units to the model:\n",
    "    layers.Dense(64, activation='relu', input_shape=(dim_x,), name='layer1'),\n",
    "    # Add another:\n",
    "    layers.Dense(64, activation='relu', name='layer2'),\n",
    "    #Dropout\n",
    "    layers.Dropout(0.2),\n",
    "    # Add another:\n",
    "    layers.Dense(64, activation='relu', name='layer3'),\n",
    "    #Dropout\n",
    "    layers.Dropout(0.2),    \n",
    "    # Add an output layer with dim_y output units:\n",
    "    layers.Dense(dim_y)],name='my_first_model')\n",
    "\n",
    "\n",
    "#Configure a model for mean-squared error regression.\n",
    "model3.compile(optimizer=tf.keras.optimizers.Adam(0.01),\n",
    "              loss='mse',       # mean squared error\n",
    "              metrics=['mae'])  # mean absolute error\n",
    "#fit model\n",
    "model3.fit(data, labels, epochs=3, batch_size=32, verbose=1)         "
   ]
  },
  {
   "cell_type": "code",
   "execution_count": 14,
   "metadata": {},
   "outputs": [
    {
     "name": "stdout",
     "output_type": "stream",
     "text": [
      "Model: \"my_first_model\"\n",
      "_________________________________________________________________\n",
      "Layer (type)                 Output Shape              Param #   \n",
      "=================================================================\n",
      "layer1 (Dense)               (None, 64)                192       \n",
      "_________________________________________________________________\n",
      "layer2 (Dense)               (None, 64)                4160      \n",
      "_________________________________________________________________\n",
      "dense (Dense)                (None, 1)                 65        \n",
      "=================================================================\n",
      "Total params: 4,417\n",
      "Trainable params: 4,417\n",
      "Non-trainable params: 0\n",
      "_________________________________________________________________\n"
     ]
    }
   ],
   "source": [
    "#Inspect the network \n",
    "model.summary()"
   ]
  },
  {
   "cell_type": "markdown",
   "metadata": {},
   "source": [
    "#### Tips for using Dropout\n",
    "* The original paper on Dropout provides experimental results on a suite of standard machine learning problems. As a result they provide a number of useful heuristics to consider when using dropout in practice.\n",
    "\n",
    "* Generally, use a small dropout value of 20%-50% of neurons with 20% providing a good starting point. A probability too low has minimal effect and a value too high results in under-learning by the network.\n",
    "\n",
    "* Use a larger network. You are likely to get better performance when dropout is used on a larger network, giving the model more of an opportunity to learn independent representations.\n",
    "\n",
    "* Use dropout on incoming (visible) as well as hidden units. Application of dropout at each layer of the network has shown good results.\n",
    "\n",
    "* Use a large learning rate with decay and a large momentum. Increase your learning rate by a factor of 10 to 100 and use a high momentum value of 0.9 or 0.99.\n",
    "\n",
    "* Constrain the size of network weights. A large learning rate can result in very large network weights. Imposing a constraint on the size of network weights such as max-norm regularization with a size of 4 or 5 has been shown to improve results."
   ]
  },
  {
   "cell_type": "markdown",
   "metadata": {
    "colab_type": "text",
    "id": "PmunUrP7HhMI"
   },
   "source": [
    "#### A useful functionality\n",
    "\n",
    "* Note that there's also a corresponding `pop()` method to remove layers: a Sequential model behaves very much like a list of layers."
   ]
  },
  {
   "cell_type": "code",
   "execution_count": 15,
   "metadata": {
    "colab_type": "code",
    "id": "6INo3oxSLUbA"
   },
   "outputs": [
    {
     "name": "stdout",
     "output_type": "stream",
     "text": [
      "3\n"
     ]
    }
   ],
   "source": [
    "model3.pop()\n",
    "print(len(model.layers))  # 2"
   ]
  },
  {
   "cell_type": "markdown",
   "metadata": {},
   "source": [
    "#### Batch normalization\n",
    "\n",
    "* [Batch normalization](https://www.tensorflow.org/api_docs/python/tf/keras/layers/BatchNormalization)\n",
    "\n",
    "Normalize the activations of the previous layer at each batch, i.e. applies a transformation that maintains the mean activation close to 0 and the activation standard deviation close to 1.\n",
    "\n",
    "Batch normalization differs from other layers in several key aspects:\n",
    "\n",
    "   - Adding BatchNormalization with training=True to a model causes the result of one example to depend on the contents of all other examples in a minibatch. Be careful when padding batches or masking examples, as these can change the minibatch statistics and affect other examples.\n",
    "\n",
    "   - Updates to the weights (moving statistics) are based on the forward pass of a model rather than the result of gradient computations.\n",
    "\n",
    "   - When performing inference using a model containing batch normalization, it is generally (though not always) desirable to use accumulated statistics rather than mini-batch statistics. This is accomplished by passing training=False when calling the model, or using model.predict."
   ]
  },
  {
   "cell_type": "code",
   "execution_count": 16,
   "metadata": {},
   "outputs": [
    {
     "name": "stdout",
     "output_type": "stream",
     "text": [
      "Epoch 1/3\n",
      "313/313 [==============================] - 1s 2ms/step - loss: 0.0473 - mae: 0.1241\n",
      "Epoch 2/3\n",
      "313/313 [==============================] - 1s 2ms/step - loss: 0.0109 - mae: 0.0818\n",
      "Epoch 3/3\n",
      "313/313 [==============================] - 1s 2ms/step - loss: 0.0096 - mae: 0.0765\n"
     ]
    },
    {
     "data": {
      "text/plain": [
       "<tensorflow.python.keras.callbacks.History at 0x7fd3a80c7080>"
      ]
     },
     "execution_count": 16,
     "metadata": {},
     "output_type": "execute_result"
    }
   ],
   "source": [
    "#Define Sequential model with 3 layers\n",
    "model4 = tf.keras.Sequential([\n",
    "#Adds a densely-connected layer with 64 units to the model:\n",
    "    layers.Dense(64, activation='relu', input_shape=(dim_x,), name='layer1'),\n",
    "    # Add another:\n",
    "    layers.Dense(64, activation='relu', name='layer2'),\n",
    "    #Batch Normalization\n",
    "    layers.BatchNormalization(),\n",
    "    # Add another:\n",
    "    layers.Dense(64, activation='relu', name='layer3'),\n",
    "    #Batch Normalization\n",
    "    layers.BatchNormalization(),    \n",
    "    # Add an output layer with dim_y output units:\n",
    "    layers.Dense(dim_y)],name='my_first_model')\n",
    "\n",
    "#Configure a model for mean-squared error regression.\n",
    "model4.compile(optimizer=tf.keras.optimizers.Adam(0.01),\n",
    "              loss='mse',       # mean squared error\n",
    "              metrics=['mae'])  # mean absolute error\n",
    "#fit model\n",
    "model4.fit(data, labels, epochs=3, batch_size=32, verbose=1)  \n"
   ]
  },
  {
   "cell_type": "markdown",
   "metadata": {
    "colab_type": "text",
    "id": "weB4ei6uNtIg"
   },
   "source": [
    "## 2.  Classification example"
   ]
  },
  {
   "cell_type": "markdown",
   "metadata": {},
   "source": [
    "#### Getting the data set"
   ]
  },
  {
   "cell_type": "code",
   "execution_count": 17,
   "metadata": {},
   "outputs": [],
   "source": [
    "fashion_mnist = keras.datasets.fashion_mnist\n",
    "\n",
    "(train_images, train_labels), (test_images, test_labels) = fashion_mnist.load_data()"
   ]
  },
  {
   "cell_type": "markdown",
   "metadata": {},
   "source": [
    "Loading the dataset returns four NumPy arrays:\n",
    "\n",
    "* The train_images and train_labels arrays are the training set—the data the model uses to learn.\n",
    "* The model is tested against the test set, the test_images, and test_labels arrays.\n",
    "* The images are 28x28 NumPy arrays, with pixel values ranging from 0 to 255. The labels are an array of integers, ranging from 0 to 9. These correspond to the class of clothing the image represents:"
   ]
  },
  {
   "cell_type": "code",
   "execution_count": 18,
   "metadata": {},
   "outputs": [],
   "source": [
    "class_names = ['T-shirt/top', 'Trouser', 'Pullover', 'Dress', 'Coat',\n",
    "               'Sandal', 'Shirt', 'Sneaker', 'Bag', 'Ankle boot']"
   ]
  },
  {
   "cell_type": "markdown",
   "metadata": {},
   "source": [
    "#### Explore the data\n",
    "Let's explore the format of the dataset before training the model. The following shows there are 60,000 images in the training set, with each image represented as 28 x 28 pixels:"
   ]
  },
  {
   "cell_type": "code",
   "execution_count": 19,
   "metadata": {},
   "outputs": [
    {
     "data": {
      "text/plain": [
       "(60000, 28, 28)"
      ]
     },
     "execution_count": 19,
     "metadata": {},
     "output_type": "execute_result"
    }
   ],
   "source": [
    "#shape\n",
    "train_images.shape"
   ]
  },
  {
   "cell_type": "code",
   "execution_count": 20,
   "metadata": {},
   "outputs": [
    {
     "data": {
      "text/plain": [
       "array([9, 0, 0, ..., 3, 0, 5], dtype=uint8)"
      ]
     },
     "execution_count": 20,
     "metadata": {},
     "output_type": "execute_result"
    }
   ],
   "source": [
    "#lables\n",
    "len(train_labels)\n",
    "train_labels"
   ]
  },
  {
   "cell_type": "code",
   "execution_count": 21,
   "metadata": {},
   "outputs": [
    {
     "data": {
      "text/plain": [
       "(10000, 28, 28)"
      ]
     },
     "execution_count": 21,
     "metadata": {},
     "output_type": "execute_result"
    }
   ],
   "source": [
    "# There are 10,000 images in the test set, and each image is represented as 28 x 28 pixels: \n",
    "test_images.shape\n",
    "\n"
   ]
  },
  {
   "cell_type": "markdown",
   "metadata": {},
   "source": [
    "* The data must be preprocessed before training the network. If you inspect the first image in the training set, you will see that the pixel values fall in the range of 0 to 255.\n",
    "\n",
    "* We need to scale these values to a range of 0 to 1 before feeding them to the neural network model. To do so, divide the values by 255. It's important that the training set and the testing set be preprocessed in the same way."
   ]
  },
  {
   "cell_type": "code",
   "execution_count": 22,
   "metadata": {},
   "outputs": [
    {
     "data": {
      "image/png": "[encoded data removed]",
      "text/plain": [
       "<matplotlib.figure.Figure at 0x7fd3a84e6898>"
      ]
     },
     "metadata": {
      "needs_background": "light"
     },
     "output_type": "display_data"
    }
   ],
   "source": [
    "plt.figure()\n",
    "plt.imshow(train_images[0])\n",
    "plt.colorbar()\n",
    "plt.grid(False)\n",
    "plt.show()"
   ]
  },
  {
   "cell_type": "code",
   "execution_count": 23,
   "metadata": {},
   "outputs": [],
   "source": [
    "train_images = train_images / 255.0\n",
    "\n",
    "test_images = test_images / 255.0"
   ]
  },
  {
   "cell_type": "markdown",
   "metadata": {},
   "source": [
    "Now, we visually verify that the data is in the correct format and that you're ready to build and train the network, let's display the first 25 images from the training set and display the class name below each image."
   ]
  },
  {
   "cell_type": "code",
   "execution_count": 24,
   "metadata": {},
   "outputs": [
    {
     "data": {
      "image/png": "[encoded data removed]",
      "text/plain": [
       "<matplotlib.figure.Figure at 0x7fd3a06a3828>"
      ]
     },
     "metadata": {},
     "output_type": "display_data"
    }
   ],
   "source": [
    "plt.figure(figsize=(10,10))\n",
    "for i in range(16):\n",
    "    plt.subplot(4,4,i+1)\n",
    "    plt.xticks([])\n",
    "    plt.yticks([])\n",
    "    plt.grid(False)\n",
    "    plt.imshow(train_images[i], cmap=plt.cm.binary)\n",
    "    plt.xlabel(class_names[train_labels[i]])\n",
    "plt.show()"
   ]
  },
  {
   "cell_type": "markdown",
   "metadata": {},
   "source": [
    "### Fully-connected deep neural network -- creating a `Sequential` model\n"
   ]
  },
  {
   "cell_type": "code",
   "execution_count": 25,
   "metadata": {},
   "outputs": [
    {
     "name": "stdout",
     "output_type": "stream",
     "text": [
      "Epoch 1/10\n",
      "1875/1875 [==============================] - 5s 3ms/step - loss: 0.5048 - accuracy: 0.8237\n",
      "Epoch 2/10\n",
      "1875/1875 [==============================] - 8s 4ms/step - loss: 0.3807 - accuracy: 0.8630\n",
      "Epoch 3/10\n",
      "1875/1875 [==============================] - 5s 3ms/step - loss: 0.3389 - accuracy: 0.8761\n",
      "Epoch 4/10\n",
      "1875/1875 [==============================] - 4s 2ms/step - loss: 0.3163 - accuracy: 0.8842\n",
      "Epoch 5/10\n",
      "1875/1875 [==============================] - 4s 2ms/step - loss: 0.2990 - accuracy: 0.8901\n",
      "Epoch 6/10\n",
      "1875/1875 [==============================] - 3s 2ms/step - loss: 0.2841 - accuracy: 0.8956\n",
      "Epoch 7/10\n",
      "1875/1875 [==============================] - 3s 2ms/step - loss: 0.2692 - accuracy: 0.9001\n",
      "Epoch 8/10\n",
      "1875/1875 [==============================] - 5s 3ms/step - loss: 0.2593 - accuracy: 0.9042\n",
      "Epoch 9/10\n",
      "1875/1875 [==============================] - 8s 4ms/step - loss: 0.2511 - accuracy: 0.9054\n",
      "Epoch 10/10\n",
      "1875/1875 [==============================] - 5s 3ms/step - loss: 0.2404 - accuracy: 0.9101\n"
     ]
    },
    {
     "data": {
      "text/plain": [
       "<tensorflow.python.keras.callbacks.History at 0x7fd3a06ee550>"
      ]
     },
     "execution_count": 25,
     "metadata": {},
     "output_type": "execute_result"
    }
   ],
   "source": [
    "#set-up the model\n",
    "model = keras.Sequential([\n",
    "    keras.layers.Flatten(input_shape=(28, 28)),\n",
    "    keras.layers.Dense(128, activation='relu'),\n",
    "    keras.layers.Dense(10)\n",
    "])\n",
    "\n",
    "#compile the model\n",
    "model.compile(optimizer='adam',\n",
    "              loss=tf.keras.losses.SparseCategoricalCrossentropy(from_logits=True),\n",
    "              metrics=['accuracy'])\n",
    "\n",
    "#train the model\n",
    "model.fit(train_images, train_labels, epochs=10)"
   ]
  },
  {
   "cell_type": "code",
   "execution_count": 26,
   "metadata": {},
   "outputs": [
    {
     "name": "stdout",
     "output_type": "stream",
     "text": [
      "313/313 - 0s - loss: 0.3326 - accuracy: 0.8842\n",
      "\n",
      "Test accuracy: 0.8841999769210815\n"
     ]
    }
   ],
   "source": [
    "#Evaluate the accuracy\n",
    "test_loss, test_acc = model.evaluate(test_images,  test_labels, verbose=2)\n",
    "\n",
    "print('\\nTest accuracy:', test_acc)"
   ]
  },
  {
   "cell_type": "markdown",
   "metadata": {},
   "source": [
    "#### Make predictions\n",
    "\n",
    "* With the model trained, you can use it to make predictions about some images. \n",
    "\n",
    "* The model's linear outputs, logits. Attach a softmax layer to convert the logits to probabilities, which are easier to interpret."
   ]
  },
  {
   "cell_type": "code",
   "execution_count": 27,
   "metadata": {},
   "outputs": [],
   "source": [
    "probability_model = tf.keras.Sequential([model, \n",
    "                                         tf.keras.layers.Softmax()])"
   ]
  },
  {
   "cell_type": "code",
   "execution_count": 28,
   "metadata": {},
   "outputs": [
    {
     "data": {
      "text/plain": [
       "array([4.8767834e-09, 5.5535714e-09, 4.1396799e-08, 1.2971628e-09,\n",
       "       1.6176648e-09, 1.0909820e-03, 1.4182271e-08, 2.5044162e-02,\n",
       "       1.1184167e-08, 9.7386473e-01], dtype=float32)"
      ]
     },
     "execution_count": 28,
     "metadata": {},
     "output_type": "execute_result"
    }
   ],
   "source": [
    "predictions = probability_model.predict(test_images)\n",
    "\n",
    "#Lets have a look at the first prediction\n",
    "predictions[0]"
   ]
  },
  {
   "cell_type": "markdown",
   "metadata": {},
   "source": [
    "A prediction is an array of 10 numbers. They represent the model's \"confidence\" that the image corresponds to each of the 10 different articles of clothing. You can see which label has the highest confidence value:"
   ]
  },
  {
   "cell_type": "code",
   "execution_count": 29,
   "metadata": {},
   "outputs": [
    {
     "data": {
      "text/plain": [
       "9"
      ]
     },
     "execution_count": 29,
     "metadata": {},
     "output_type": "execute_result"
    }
   ],
   "source": [
    "np.argmax(predictions[0])"
   ]
  },
  {
   "cell_type": "markdown",
   "metadata": {},
   "source": [
    "So, the model is most confident that this image is an ankle boot, or class_names[9]. Examining the test label shows that this classification is correct:"
   ]
  },
  {
   "cell_type": "markdown",
   "metadata": {},
   "source": [
    "#### Verify predictions\n",
    "* With the model trained, you can use it to make predictions about some images.\n",
    "\n",
    "* Let's look at the 0th image, predictions, and prediction array. Correct prediction labels are blue and incorrect prediction labels are red. The number gives the percentage (out of 100) for the predicted label."
   ]
  },
  {
   "cell_type": "code",
   "execution_count": 30,
   "metadata": {},
   "outputs": [],
   "source": [
    "def plot_image(i, predictions_array, true_label, img):\n",
    "  predictions_array, true_label, img = predictions_array, true_label[i], img[i]\n",
    "  plt.grid(False)\n",
    "  plt.xticks([])\n",
    "  plt.yticks([])\n",
    "\n",
    "  plt.imshow(img, cmap=plt.cm.binary)\n",
    "\n",
    "  predicted_label = np.argmax(predictions_array)\n",
    "  if predicted_label == true_label:\n",
    "    color = 'blue'\n",
    "  else:\n",
    "    color = 'red'\n",
    "\n",
    "  plt.xlabel(\"{} {:2.0f}% ({})\".format(class_names[predicted_label],\n",
    "                                100*np.max(predictions_array),\n",
    "                                class_names[true_label]),\n",
    "                                color=color)\n",
    "\n",
    "def plot_value_array(i, predictions_array, true_label):\n",
    "  predictions_array, true_label = predictions_array, true_label[i]\n",
    "  plt.grid(False)\n",
    "  plt.xticks(range(10))\n",
    "  plt.yticks([])\n",
    "  thisplot = plt.bar(range(10), predictions_array, color=\"#777777\")\n",
    "  plt.ylim([0, 1])\n",
    "  predicted_label = np.argmax(predictions_array)\n",
    "\n",
    "  thisplot[predicted_label].set_color('red')\n",
    "  thisplot[true_label].set_color('blue')"
   ]
  },
  {
   "cell_type": "code",
   "execution_count": 31,
   "metadata": {},
   "outputs": [
    {
     "data": {
      "image/png": "[encoded data removed]",
      "text/plain": [
       "<matplotlib.figure.Figure at 0x7fd3a0224668>"
      ]
     },
     "metadata": {
      "needs_background": "light"
     },
     "output_type": "display_data"
    }
   ],
   "source": [
    "i = 10\n",
    "plt.figure(figsize=(6,3))\n",
    "plt.subplot(1,2,1)\n",
    "plot_image(i, predictions[i], test_labels, test_images)\n",
    "plt.subplot(1,2,2)\n",
    "plot_value_array(i, predictions[i],  test_labels)\n",
    "plt.show()"
   ]
  },
  {
   "cell_type": "code",
   "execution_count": 32,
   "metadata": {},
   "outputs": [
    {
     "name": "stdout",
     "output_type": "stream",
     "text": [
      "(28, 28)\n"
     ]
    }
   ],
   "source": [
    "# Take an image from the test dataset.\n",
    "img = test_images[1]\n",
    "print(img.shape)"
   ]
  },
  {
   "cell_type": "code",
   "execution_count": 33,
   "metadata": {},
   "outputs": [
    {
     "name": "stdout",
     "output_type": "stream",
     "text": [
      "(1, 28, 28)\n"
     ]
    }
   ],
   "source": [
    "# Add the image to a batch where it's the only member.\n",
    "img = (np.expand_dims(img,0))\n",
    "\n",
    "print(img.shape)"
   ]
  },
  {
   "cell_type": "code",
   "execution_count": 34,
   "metadata": {},
   "outputs": [
    {
     "name": "stdout",
     "output_type": "stream",
     "text": [
      "[[2.7488633e-05 1.7785132e-13 9.9184859e-01 1.1961322e-09 5.2839117e-03\n",
      "  5.3409024e-13 2.8400274e-03 1.1338037e-14 9.8382191e-09 4.3349669e-16]]\n"
     ]
    }
   ],
   "source": [
    "# predict the correct label for this image:\n",
    "predictions_single = probability_model.predict(img)\n",
    "print(predictions_single)"
   ]
  },
  {
   "cell_type": "code",
   "execution_count": 35,
   "metadata": {},
   "outputs": [
    {
     "data": {
      "image/png": "[encoded data removed]",
      "text/plain": [
       "<matplotlib.figure.Figure at 0x7fd3a019da90>"
      ]
     },
     "metadata": {
      "needs_background": "light"
     },
     "output_type": "display_data"
    }
   ],
   "source": [
    "plot_value_array(1, predictions_single[0], test_labels)\n",
    "_ = plt.xticks(range(10), class_names, rotation=45)"
   ]
  },
  {
   "cell_type": "markdown",
   "metadata": {},
   "source": [
    "keras.Model.predict returns a list of lists—one list for each image in the batch of data. Grab the predictions for our (only) image in the batch:"
   ]
  },
  {
   "cell_type": "code",
   "execution_count": 36,
   "metadata": {},
   "outputs": [
    {
     "data": {
      "text/plain": [
       "2"
      ]
     },
     "execution_count": 36,
     "metadata": {},
     "output_type": "execute_result"
    }
   ],
   "source": [
    "np.argmax(predictions_single[0])"
   ]
  },
  {
   "cell_type": "code",
   "execution_count": null,
   "metadata": {},
   "outputs": [],
   "source": []
  }
 ],
 "metadata": {
  "colab": {
   "collapsed_sections": [],
   "name": "sequential_model.ipynb",
   "private_outputs": true,
   "provenance": [],
   "toc_visible": true
  },
  "kernelspec": {
   "display_name": "Python 3",
   "language": "python",
   "name": "python3"
  },
  "language_info": {
   "codemirror_mode": {
    "name": "ipython",
    "version": 3
   },
   "file_extension": ".py",
   "mimetype": "text/x-python",
   "name": "python",
   "nbconvert_exporter": "python",
   "pygments_lexer": "ipython3",
   "version": "3.6.10"
  }
 },
 "nbformat": 4,
 "nbformat_minor": 1
}
